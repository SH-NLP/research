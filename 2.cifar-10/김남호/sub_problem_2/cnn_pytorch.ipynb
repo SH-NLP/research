{
  "nbformat": 4,
  "nbformat_minor": 0,
  "metadata": {
    "colab": {
      "name": "cnn_pytorch.ipynb",
      "provenance": [],
      "collapsed_sections": [],
      "authorship_tag": "ABX9TyPkR11q54g7SmIPK4Abbp9B",
      "include_colab_link": true
    },
    "kernelspec": {
      "name": "python3",
      "display_name": "Python 3"
    },
    "accelerator": "GPU",
    "widgets": {
      "application/vnd.jupyter.widget-state+json": {
        "d1c9a7e8ad6b4b2e94938601d934fca1": {
          "model_module": "@jupyter-widgets/controls",
          "model_name": "HBoxModel",
          "state": {
            "_view_name": "HBoxView",
            "_dom_classes": [],
            "_model_name": "HBoxModel",
            "_view_module": "@jupyter-widgets/controls",
            "_model_module_version": "1.5.0",
            "_view_count": null,
            "_view_module_version": "1.5.0",
            "box_style": "",
            "layout": "IPY_MODEL_db8518c935ba4c499179485d5da6de84",
            "_model_module": "@jupyter-widgets/controls",
            "children": [
              "IPY_MODEL_0d51e857118e40e695aee6b5d6c9b80b",
              "IPY_MODEL_d5a24fc369474bdd98ae97be9141b630"
            ]
          }
        },
        "db8518c935ba4c499179485d5da6de84": {
          "model_module": "@jupyter-widgets/base",
          "model_name": "LayoutModel",
          "state": {
            "_view_name": "LayoutView",
            "grid_template_rows": null,
            "right": null,
            "justify_content": null,
            "_view_module": "@jupyter-widgets/base",
            "overflow": null,
            "_model_module_version": "1.2.0",
            "_view_count": null,
            "flex_flow": null,
            "width": null,
            "min_width": null,
            "border": null,
            "align_items": null,
            "bottom": null,
            "_model_module": "@jupyter-widgets/base",
            "top": null,
            "grid_column": null,
            "overflow_y": null,
            "overflow_x": null,
            "grid_auto_flow": null,
            "grid_area": null,
            "grid_template_columns": null,
            "flex": null,
            "_model_name": "LayoutModel",
            "justify_items": null,
            "grid_row": null,
            "max_height": null,
            "align_content": null,
            "visibility": null,
            "align_self": null,
            "height": null,
            "min_height": null,
            "padding": null,
            "grid_auto_rows": null,
            "grid_gap": null,
            "max_width": null,
            "order": null,
            "_view_module_version": "1.2.0",
            "grid_template_areas": null,
            "object_position": null,
            "object_fit": null,
            "grid_auto_columns": null,
            "margin": null,
            "display": null,
            "left": null
          }
        },
        "0d51e857118e40e695aee6b5d6c9b80b": {
          "model_module": "@jupyter-widgets/controls",
          "model_name": "FloatProgressModel",
          "state": {
            "_view_name": "ProgressView",
            "style": "IPY_MODEL_ac365c1bdd994bcf84dfe8b7cf29fdb0",
            "_dom_classes": [],
            "description": "",
            "_model_name": "FloatProgressModel",
            "bar_style": "info",
            "max": 1,
            "_view_module": "@jupyter-widgets/controls",
            "_model_module_version": "1.5.0",
            "value": 1,
            "_view_count": null,
            "_view_module_version": "1.5.0",
            "orientation": "horizontal",
            "min": 0,
            "description_tooltip": null,
            "_model_module": "@jupyter-widgets/controls",
            "layout": "IPY_MODEL_3fbf864d77df46e899a330d6b554d54d"
          }
        },
        "d5a24fc369474bdd98ae97be9141b630": {
          "model_module": "@jupyter-widgets/controls",
          "model_name": "HTMLModel",
          "state": {
            "_view_name": "HTMLView",
            "style": "IPY_MODEL_402a8cd26de543b588e72268666b6a23",
            "_dom_classes": [],
            "description": "",
            "_model_name": "HTMLModel",
            "placeholder": "​",
            "_view_module": "@jupyter-widgets/controls",
            "_model_module_version": "1.5.0",
            "value": " 170500096/? [00:29&lt;00:00, 17212127.68it/s]",
            "_view_count": null,
            "_view_module_version": "1.5.0",
            "description_tooltip": null,
            "_model_module": "@jupyter-widgets/controls",
            "layout": "IPY_MODEL_8a77b3516edb4a24be3b48dceaeff48e"
          }
        },
        "ac365c1bdd994bcf84dfe8b7cf29fdb0": {
          "model_module": "@jupyter-widgets/controls",
          "model_name": "ProgressStyleModel",
          "state": {
            "_view_name": "StyleView",
            "_model_name": "ProgressStyleModel",
            "description_width": "initial",
            "_view_module": "@jupyter-widgets/base",
            "_model_module_version": "1.5.0",
            "_view_count": null,
            "_view_module_version": "1.2.0",
            "bar_color": null,
            "_model_module": "@jupyter-widgets/controls"
          }
        },
        "3fbf864d77df46e899a330d6b554d54d": {
          "model_module": "@jupyter-widgets/base",
          "model_name": "LayoutModel",
          "state": {
            "_view_name": "LayoutView",
            "grid_template_rows": null,
            "right": null,
            "justify_content": null,
            "_view_module": "@jupyter-widgets/base",
            "overflow": null,
            "_model_module_version": "1.2.0",
            "_view_count": null,
            "flex_flow": null,
            "width": null,
            "min_width": null,
            "border": null,
            "align_items": null,
            "bottom": null,
            "_model_module": "@jupyter-widgets/base",
            "top": null,
            "grid_column": null,
            "overflow_y": null,
            "overflow_x": null,
            "grid_auto_flow": null,
            "grid_area": null,
            "grid_template_columns": null,
            "flex": null,
            "_model_name": "LayoutModel",
            "justify_items": null,
            "grid_row": null,
            "max_height": null,
            "align_content": null,
            "visibility": null,
            "align_self": null,
            "height": null,
            "min_height": null,
            "padding": null,
            "grid_auto_rows": null,
            "grid_gap": null,
            "max_width": null,
            "order": null,
            "_view_module_version": "1.2.0",
            "grid_template_areas": null,
            "object_position": null,
            "object_fit": null,
            "grid_auto_columns": null,
            "margin": null,
            "display": null,
            "left": null
          }
        },
        "402a8cd26de543b588e72268666b6a23": {
          "model_module": "@jupyter-widgets/controls",
          "model_name": "DescriptionStyleModel",
          "state": {
            "_view_name": "StyleView",
            "_model_name": "DescriptionStyleModel",
            "description_width": "",
            "_view_module": "@jupyter-widgets/base",
            "_model_module_version": "1.5.0",
            "_view_count": null,
            "_view_module_version": "1.2.0",
            "_model_module": "@jupyter-widgets/controls"
          }
        },
        "8a77b3516edb4a24be3b48dceaeff48e": {
          "model_module": "@jupyter-widgets/base",
          "model_name": "LayoutModel",
          "state": {
            "_view_name": "LayoutView",
            "grid_template_rows": null,
            "right": null,
            "justify_content": null,
            "_view_module": "@jupyter-widgets/base",
            "overflow": null,
            "_model_module_version": "1.2.0",
            "_view_count": null,
            "flex_flow": null,
            "width": null,
            "min_width": null,
            "border": null,
            "align_items": null,
            "bottom": null,
            "_model_module": "@jupyter-widgets/base",
            "top": null,
            "grid_column": null,
            "overflow_y": null,
            "overflow_x": null,
            "grid_auto_flow": null,
            "grid_area": null,
            "grid_template_columns": null,
            "flex": null,
            "_model_name": "LayoutModel",
            "justify_items": null,
            "grid_row": null,
            "max_height": null,
            "align_content": null,
            "visibility": null,
            "align_self": null,
            "height": null,
            "min_height": null,
            "padding": null,
            "grid_auto_rows": null,
            "grid_gap": null,
            "max_width": null,
            "order": null,
            "_view_module_version": "1.2.0",
            "grid_template_areas": null,
            "object_position": null,
            "object_fit": null,
            "grid_auto_columns": null,
            "margin": null,
            "display": null,
            "left": null
          }
        }
      }
    }
  },
  "cells": [
    {
      "cell_type": "markdown",
      "metadata": {
        "id": "view-in-github",
        "colab_type": "text"
      },
      "source": [
        "<a href=\"https://colab.research.google.com/github/skaghzz/research/blob/master/2.cifar-10/%EA%B9%80%EB%82%A8%ED%98%B8/sub_problem_2/cnn_pytorch.ipynb\" target=\"_parent\"><img src=\"https://colab.research.google.com/assets/colab-badge.svg\" alt=\"Open In Colab\"/></a>"
      ]
    },
    {
      "cell_type": "code",
      "metadata": {
        "id": "L6MWhi4d42w9"
      },
      "source": [
        "# https://tutorials.pytorch.kr/beginner/blitz/cifar10_tutorial.html\n",
        "import torch\n",
        "import torchvision\n",
        "import torchvision.transforms as transforms\n",
        "from torchvision import models\n",
        "from torchsummary import summary"
      ],
      "execution_count": 1,
      "outputs": []
    },
    {
      "cell_type": "code",
      "metadata": {
        "id": "_DYyrcaEoCwh",
        "outputId": "c67aaf48-7caf-4463-fccc-6da8411aeef7",
        "colab": {
          "base_uri": "https://localhost:8080/"
        }
      },
      "source": [
        "device = torch.device(\"cuda:0\" if torch.cuda.is_available() else \"cpu\")\n",
        "print(device)"
      ],
      "execution_count": 2,
      "outputs": [
        {
          "output_type": "stream",
          "text": [
            "cuda:0\n"
          ],
          "name": "stdout"
        }
      ]
    },
    {
      "cell_type": "code",
      "metadata": {
        "id": "Xa8h5m_A47oF",
        "outputId": "578fcdf8-9c94-40e3-f9c7-ae0fccf3f1c1",
        "colab": {
          "base_uri": "https://localhost:8080/",
          "height": 137,
          "referenced_widgets": [
            "d1c9a7e8ad6b4b2e94938601d934fca1",
            "db8518c935ba4c499179485d5da6de84",
            "0d51e857118e40e695aee6b5d6c9b80b",
            "d5a24fc369474bdd98ae97be9141b630",
            "ac365c1bdd994bcf84dfe8b7cf29fdb0",
            "3fbf864d77df46e899a330d6b554d54d",
            "402a8cd26de543b588e72268666b6a23",
            "8a77b3516edb4a24be3b48dceaeff48e"
          ]
        }
      },
      "source": [
        "transform = transforms.Compose(\n",
        "    [transforms.ToTensor(),\n",
        "     transforms.Normalize((0.5, 0.5, 0.5), (0.5, 0.5, 0.5))])\n",
        "\n",
        "# 데이터셋 정의\n",
        "trainset = torchvision.datasets.CIFAR10(root='./data',\n",
        "                                        train=True,\n",
        "                                        download=True,\n",
        "                                        transform=transform)\n",
        "testset = torchvision.datasets.CIFAR10(root='./data',\n",
        "                                       train=False,\n",
        "                                       download=True,\n",
        "                                       transform=transform)\n",
        "\n",
        "# 배치 크기 지정\n",
        "trainloader = torch.utils.data.DataLoader(dataset=trainset,\n",
        "                                          batch_size=4,\n",
        "                                          shuffle=True)\n",
        "\n",
        "testloader = torch.utils.data.DataLoader(testset,\n",
        "                                         batch_size=4,\n",
        "                                         shuffle=False)\n",
        "classes = ('plane','car','bird','cat','deer','dog','frog','horse','ship','truck')\n",
        "\n",
        "total_batch = len(trainloader)\n",
        "print('총 배치 개수 : {}'.format(total_batch))"
      ],
      "execution_count": 3,
      "outputs": [
        {
          "output_type": "stream",
          "text": [
            "Downloading https://www.cs.toronto.edu/~kriz/cifar-10-python.tar.gz to ./data/cifar-10-python.tar.gz\n"
          ],
          "name": "stdout"
        },
        {
          "output_type": "display_data",
          "data": {
            "application/vnd.jupyter.widget-view+json": {
              "model_id": "d1c9a7e8ad6b4b2e94938601d934fca1",
              "version_minor": 0,
              "version_major": 2
            },
            "text/plain": [
              "HBox(children=(FloatProgress(value=1.0, bar_style='info', max=1.0), HTML(value='')))"
            ]
          },
          "metadata": {
            "tags": []
          }
        },
        {
          "output_type": "stream",
          "text": [
            "Extracting ./data/cifar-10-python.tar.gz to ./data\n",
            "Files already downloaded and verified\n",
            "총 배치 개수 : 12500\n"
          ],
          "name": "stdout"
        }
      ]
    },
    {
      "cell_type": "code",
      "metadata": {
        "id": "6R6jiWUf5BOL",
        "outputId": "bd049b2b-d8c4-4bbc-b216-27121de54cbf",
        "colab": {
          "base_uri": "https://localhost:8080/",
          "height": 155
        }
      },
      "source": [
        "import matplotlib.pyplot as plt\n",
        "import numpy as np\n",
        "\n",
        "# 이미지를 보여주는 함수\n",
        "def imgShow(img):\n",
        "  img = img / 2 + 0.5\n",
        "  npimg = img.numpy()\n",
        "  plt.imshow(np.transpose(npimg, (1, 2, 0)))\n",
        "  plt.show()\n",
        "\n",
        "# 학습용 이미지를 무작위로 가져옴 \n",
        "dataiter = iter(trainloader)\n",
        "images, labels = dataiter.next()\n",
        "\n",
        "# 이미지 보여줌 \n",
        "imgShow(torchvision.utils.make_grid(images))\n",
        "# 정답(label) 출력\n",
        "print(' '.join('%5s' % classes[labels[j]] for j in range(4)))"
      ],
      "execution_count": 4,
      "outputs": [
        {
          "output_type": "display_data",
          "data": {
            "image/png": "[encoded data removed]",
            "text/plain": [
              "<Figure size 432x288 with 1 Axes>"
            ]
          },
          "metadata": {
            "tags": [],
            "needs_background": "light"
          }
        },
        {
          "output_type": "stream",
          "text": [
            " deer   cat truck horse\n"
          ],
          "name": "stdout"
        }
      ]
    },
    {
      "cell_type": "code",
      "metadata": {
        "id": "iGQLyM4Jx5me",
        "outputId": "d0efba43-b07a-4809-c265-7fd1c1fad114",
        "colab": {
          "base_uri": "https://localhost:8080/"
        }
      },
      "source": [
        "# cnn 정의하기\n",
        "import torch.nn as nn\n",
        "import torch.nn.functional as F\n",
        "\n",
        "class Cnn_tutorial(nn.Module):\n",
        "  def __init__(self):\n",
        "    super(Cnn_tutorial, self).__init__()\n",
        "    self.conv1 = nn.Conv2d(3, 6, 5)\n",
        "    self.pool = nn.MaxPool2d(2, 2)\n",
        "    self.conv2 = nn.Conv2d(6, 16, 5)\n",
        "    self.fc1 = nn.Linear(16 * 5 * 5, 120)\n",
        "    self.fc2 = nn.Linear(120, 84)\n",
        "    self.fc3 = nn.Linear(84, 10)\n",
        "\n",
        "  def forward(self, x):\n",
        "    x = self.pool(F.relu(self.conv1(x)))\n",
        "    x = self.pool(F.relu(self.conv2(x)))\n",
        "    x = x.view(-1, 16 * 5 * 5)\n",
        "    x = F.relu(self.fc1(x))\n",
        "    x = F.relu(self.fc2(x))\n",
        "    x = self.fc3(x)\n",
        "    return x\n",
        "\n",
        "summary(Cnn_tutorial().to(device), (3, 32, 32))"
      ],
      "execution_count": 5,
      "outputs": [
        {
          "output_type": "stream",
          "text": [
            "----------------------------------------------------------------\n",
            "        Layer (type)               Output Shape         Param #\n",
            "================================================================\n",
            "            Conv2d-1            [-1, 6, 28, 28]             456\n",
            "         MaxPool2d-2            [-1, 6, 14, 14]               0\n",
            "            Conv2d-3           [-1, 16, 10, 10]           2,416\n",
            "         MaxPool2d-4             [-1, 16, 5, 5]               0\n",
            "            Linear-5                  [-1, 120]          48,120\n",
            "            Linear-6                   [-1, 84]          10,164\n",
            "            Linear-7                   [-1, 10]             850\n",
            "================================================================\n",
            "Total params: 62,006\n",
            "Trainable params: 62,006\n",
            "Non-trainable params: 0\n",
            "----------------------------------------------------------------\n",
            "Input size (MB): 0.01\n",
            "Forward/backward pass size (MB): 0.06\n",
            "Params size (MB): 0.24\n",
            "Estimated Total Size (MB): 0.31\n",
            "----------------------------------------------------------------\n"
          ],
          "name": "stdout"
        }
      ]
    },
    {
      "cell_type": "code",
      "metadata": {
        "id": "buxCSaTR9cHj",
        "outputId": "b5c7bdd7-a83b-4a94-dddd-2050276f840f",
        "colab": {
          "base_uri": "https://localhost:8080/"
        }
      },
      "source": [
        "# cnn 정의하기\n",
        "import torch.nn as nn\n",
        "import torch.nn.functional as F\n",
        "\n",
        "class myCnn(nn.Module):\n",
        "  def __init__(self):\n",
        "    super(myCnn, self).__init__()\n",
        "\n",
        "    # input -> 3*32*32\n",
        "    # conv2d -> 16*32*32  ## (32-3+2*1) / 1 + 1\n",
        "    # maxPool -> 16*16*16 ## (32-2+2*0) / 2 + 1\n",
        "    self.layer1 = nn.Sequential(\n",
        "        nn.Conv2d(in_channels=3, out_channels=16, kernel_size=3, padding=1),\n",
        "        nn.ReLU(),\n",
        "        nn.MaxPool2d(kernel_size=2, stride=2)\n",
        "    )\n",
        "\n",
        "    # input -> 16*16*16\n",
        "    # conv2d -> 64*14*14 ## (16-5+2*1) / 1 + 1\n",
        "    # maxPool -> 64*7*7 ## (14-2+2*0) / 2 + 1\n",
        "    self.layer2 = nn.Sequential(\n",
        "        nn.Conv2d(in_channels=16, out_channels=64, kernel_size=5, padding=1),\n",
        "        nn.ReLU(),\n",
        "        nn.MaxPool2d(kernel_size=2, stride=2)\n",
        "    )\n",
        "\n",
        "    # input -> 64*7*7\n",
        "    # conv2d -> 256*7*7 ## (7-3+2*1) / 1 + 1\n",
        "    # maxpool -> 256*3*3 ## (7-2+2*0) / 2 + 1\n",
        "    self.layer3 = nn.Sequential(\n",
        "        nn.Conv2d(in_channels=64, out_channels=256, kernel_size=3, padding=1),\n",
        "        nn.ReLU(),\n",
        "        nn.MaxPool2d(kernel_size=2, stride=2)\n",
        "    )\n",
        "\n",
        "    self.fc1 = nn.Sequential(\n",
        "        nn.Linear(256*3*3, 120),\n",
        "        nn.ReLU()\n",
        "    )\n",
        "    self.fc2 = nn.Sequential(\n",
        "        nn.Linear(120, 84),\n",
        "        nn.ReLU()\n",
        "    )\n",
        "    self.fc3 = nn.Linear(84, 10)\n",
        "  def forward(self, x):\n",
        "    x = self.layer1(x)\n",
        "    x = self.layer2(x)\n",
        "    x = self.layer3(x)\n",
        "    x = x.view(x.size(0), -1)\n",
        "    x = self.fc1(x)\n",
        "    x = self.fc2(x)\n",
        "    x = self.fc3(x)\n",
        "    return x\n",
        "\n",
        "summary(myCnn().to(device), (3, 32, 32))"
      ],
      "execution_count": 6,
      "outputs": [
        {
          "output_type": "stream",
          "text": [
            "----------------------------------------------------------------\n",
            "        Layer (type)               Output Shape         Param #\n",
            "================================================================\n",
            "            Conv2d-1           [-1, 16, 32, 32]             448\n",
            "              ReLU-2           [-1, 16, 32, 32]               0\n",
            "         MaxPool2d-3           [-1, 16, 16, 16]               0\n",
            "            Conv2d-4           [-1, 64, 14, 14]          25,664\n",
            "              ReLU-5           [-1, 64, 14, 14]               0\n",
            "         MaxPool2d-6             [-1, 64, 7, 7]               0\n",
            "            Conv2d-7            [-1, 256, 7, 7]         147,712\n",
            "              ReLU-8            [-1, 256, 7, 7]               0\n",
            "         MaxPool2d-9            [-1, 256, 3, 3]               0\n",
            "           Linear-10                  [-1, 120]         276,600\n",
            "             ReLU-11                  [-1, 120]               0\n",
            "           Linear-12                   [-1, 84]          10,164\n",
            "             ReLU-13                   [-1, 84]               0\n",
            "           Linear-14                   [-1, 10]             850\n",
            "================================================================\n",
            "Total params: 461,438\n",
            "Trainable params: 461,438\n",
            "Non-trainable params: 0\n",
            "----------------------------------------------------------------\n",
            "Input size (MB): 0.01\n",
            "Forward/backward pass size (MB): 0.71\n",
            "Params size (MB): 1.76\n",
            "Estimated Total Size (MB): 2.48\n",
            "----------------------------------------------------------------\n"
          ],
          "name": "stdout"
        }
      ]
    },
    {
      "cell_type": "code",
      "metadata": {
        "id": "mMhVpD6bjZjS"
      },
      "source": [
        "# tutorial 모델과 직접만든 모델중에서 선택\n",
        "cnn = myCnn().to(device)\n",
        "#cnn = Cnn_tutorial().to(device)"
      ],
      "execution_count": 7,
      "outputs": []
    },
    {
      "cell_type": "code",
      "metadata": {
        "id": "0CbUNq2iJ6Na"
      },
      "source": [
        "import torch.optim as optim\n",
        "criterion = nn.CrossEntropyLoss() # loss funciton - 교차 엔트로피 손실\n",
        "optimizer = optim.Adam(cnn.parameters(), lr=1e-4) # optimizer - adam"
      ],
      "execution_count": 8,
      "outputs": []
    },
    {
      "cell_type": "code",
      "metadata": {
        "id": "87j47EwOLf44",
        "outputId": "ba91c4fe-08bc-49b0-aeb1-e1bb529c447a",
        "colab": {
          "base_uri": "https://localhost:8080/"
        }
      },
      "source": [
        "epochs = 15\n",
        "for epoch in range(epochs):\n",
        "  running_loss = 0.0\n",
        "  avg_cost = 0\n",
        "  for i, data in enumerate(trainloader, 0):\n",
        "    # [inputs, labels]의 목록인 data로부터 입력을 받음\n",
        "    inputs, labels = data[0].to(device), data[1].to(device)\n",
        "\n",
        "    # 변화도(Gradient) 매개변수를 0으로 만든다\n",
        "    optimizer.zero_grad()\n",
        "\n",
        "    hypothesis = cnn(inputs) # forward propagation\n",
        "    loss = criterion(hypothesis, labels)\n",
        "    loss.backward() # back propagation\n",
        "    optimizer.step() # optimizing\n",
        "\n",
        "    # 통계를 출력\n",
        "    running_loss += loss.item()\n",
        "    if i % 3000 == 2999:\n",
        "      print('[%d, %5d] loss: %.3f' % (epoch+1, i+1, running_loss/3000))\n",
        "      running_loss = 0.0\n",
        "    \n",
        "    avg_cost += loss / total_batch\n",
        "  print('[Epoch: {:>4}] loss = {:>.9}'.format(epoch+1, avg_cost))\n",
        "print('Finished Training')"
      ],
      "execution_count": 9,
      "outputs": [
        {
          "output_type": "stream",
          "text": [
            "[1,  3000] loss: 1.879\n",
            "[1,  6000] loss: 1.611\n",
            "[1,  9000] loss: 1.513\n",
            "[1, 12000] loss: 1.433\n",
            "[Epoch:    1] loss = 1.60053265\n",
            "[2,  3000] loss: 1.347\n",
            "[2,  6000] loss: 1.305\n",
            "[2,  9000] loss: 1.263\n",
            "[2, 12000] loss: 1.229\n",
            "[Epoch:    2] loss = 1.2816608\n",
            "[3,  3000] loss: 1.155\n",
            "[3,  6000] loss: 1.109\n",
            "[3,  9000] loss: 1.095\n",
            "[3, 12000] loss: 1.064\n",
            "[Epoch:    3] loss = 1.10479772\n",
            "[4,  3000] loss: 0.993\n",
            "[4,  6000] loss: 0.988\n",
            "[4,  9000] loss: 0.963\n",
            "[4, 12000] loss: 0.951\n",
            "[Epoch:    4] loss = 0.972724795\n",
            "[5,  3000] loss: 0.884\n",
            "[5,  6000] loss: 0.863\n",
            "[5,  9000] loss: 0.871\n",
            "[5, 12000] loss: 0.852\n",
            "[Epoch:    5] loss = 0.86589992\n",
            "[6,  3000] loss: 0.778\n",
            "[6,  6000] loss: 0.783\n",
            "[6,  9000] loss: 0.770\n",
            "[6, 12000] loss: 0.749\n",
            "[Epoch:    6] loss = 0.771192908\n",
            "[7,  3000] loss: 0.691\n",
            "[7,  6000] loss: 0.686\n",
            "[7,  9000] loss: 0.688\n",
            "[7, 12000] loss: 0.693\n",
            "[Epoch:    7] loss = 0.688666284\n",
            "[8,  3000] loss: 0.607\n",
            "[8,  6000] loss: 0.621\n",
            "[8,  9000] loss: 0.612\n",
            "[8, 12000] loss: 0.627\n",
            "[Epoch:    8] loss = 0.6153211\n",
            "[9,  3000] loss: 0.526\n",
            "[9,  6000] loss: 0.557\n",
            "[9,  9000] loss: 0.552\n",
            "[9, 12000] loss: 0.560\n",
            "[Epoch:    9] loss = 0.549333096\n",
            "[10,  3000] loss: 0.466\n",
            "[10,  6000] loss: 0.478\n",
            "[10,  9000] loss: 0.497\n",
            "[10, 12000] loss: 0.485\n",
            "[Epoch:   10] loss = 0.482818335\n",
            "[11,  3000] loss: 0.410\n",
            "[11,  6000] loss: 0.429\n",
            "[11,  9000] loss: 0.426\n",
            "[11, 12000] loss: 0.430\n",
            "[Epoch:   11] loss = 0.424431741\n",
            "[12,  3000] loss: 0.344\n",
            "[12,  6000] loss: 0.373\n",
            "[12,  9000] loss: 0.366\n",
            "[12, 12000] loss: 0.379\n",
            "[Epoch:   12] loss = 0.36635223\n",
            "[13,  3000] loss: 0.284\n",
            "[13,  6000] loss: 0.314\n",
            "[13,  9000] loss: 0.320\n",
            "[13, 12000] loss: 0.328\n",
            "[Epoch:   13] loss = 0.313009024\n",
            "[14,  3000] loss: 0.247\n",
            "[14,  6000] loss: 0.258\n",
            "[14,  9000] loss: 0.260\n",
            "[14, 12000] loss: 0.278\n",
            "[Epoch:   14] loss = 0.262607545\n",
            "[15,  3000] loss: 0.197\n",
            "[15,  6000] loss: 0.217\n",
            "[15,  9000] loss: 0.218\n",
            "[15, 12000] loss: 0.244\n",
            "[Epoch:   15] loss = 0.220866114\n",
            "Finished Training\n"
          ],
          "name": "stdout"
        }
      ]
    },
    {
      "cell_type": "code",
      "metadata": {
        "id": "5Qxk4jAAZqXR",
        "outputId": "21e22875-7f13-493f-d05f-f19dc858b2f5",
        "colab": {
          "base_uri": "https://localhost:8080/"
        }
      },
      "source": [
        "# 전체 test데이터로 모델의 예측 정확도 측정하기\n",
        "correct = 0\n",
        "total = 0\n",
        "with torch.no_grad():\n",
        "  for data in testloader:\n",
        "    images, labels = data[0].to(device), data[1].to(device)\n",
        "    outputs = cnn(images).to(device)\n",
        "    _, predicted = torch.max(outputs.data, 1)\n",
        "    total += labels.size(0)\n",
        "    correct += (predicted == labels).sum().item()\n",
        "print('Accuracy of the network on the 10000 test images: %d %%' % (100 * correct /total))"
      ],
      "execution_count": 10,
      "outputs": [
        {
          "output_type": "stream",
          "text": [
            "Accuracy of the network on the 10000 test images: 73 %\n"
          ],
          "name": "stdout"
        }
      ]
    },
    {
      "cell_type": "code",
      "metadata": {
        "id": "K9uVxLqlbiId",
        "outputId": "4d73419c-0d90-4e35-d36d-abf3a97ad606",
        "colab": {
          "base_uri": "https://localhost:8080/"
        }
      },
      "source": [
        "# 클래스별 분류 정확도\n",
        "class_correct = list(0. for i in range(10))\n",
        "class_total = list(0. for i in range(10))\n",
        "with torch.no_grad():\n",
        "  for data in testloader:\n",
        "    images, labels = data[0].to(device), data[1].to(device)\n",
        "    outputs = cnn(images).to(device)\n",
        "    _, predicted = torch.max(outputs, 1)\n",
        "    c = (predicted == labels).squeeze()\n",
        "    for i in range(4):\n",
        "      label = labels[i]\n",
        "      class_correct[label] += c[i].item()\n",
        "      class_total[label] += 1\n",
        "for i in range(10):\n",
        "  print('Accuracy of %5s : %2d %%' % (classes[i], 100*class_correct[i] / class_total[i]))"
      ],
      "execution_count": 11,
      "outputs": [
        {
          "output_type": "stream",
          "text": [
            "Accuracy of plane : 79 %\n",
            "Accuracy of   car : 86 %\n",
            "Accuracy of  bird : 68 %\n",
            "Accuracy of   cat : 52 %\n",
            "Accuracy of  deer : 64 %\n",
            "Accuracy of   dog : 73 %\n",
            "Accuracy of  frog : 82 %\n",
            "Accuracy of horse : 76 %\n",
            "Accuracy of  ship : 81 %\n",
            "Accuracy of truck : 74 %\n"
          ],
          "name": "stdout"
        }
      ]
    }
  ]
}