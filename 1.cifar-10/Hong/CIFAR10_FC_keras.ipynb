{
  "nbformat": 4,
  "nbformat_minor": 0,
  "metadata": {
    "colab": {
      "name": "CIFAR10_FC_keras.ipynb",
      "provenance": []
    },
    "kernelspec": {
      "name": "python3",
      "display_name": "Python 3"
    },
    "accelerator": "GPU"
  },
  "cells": [
    {
      "cell_type": "markdown",
      "metadata": {
        "id": "0brbR6gZj7wi",
        "colab_type": "text"
      },
      "source": [
        "CIFAR 10 - Fully connected Layer Model"
      ]
    },
    {
      "cell_type": "code",
      "metadata": {
        "id": "0i6C9erJktqF",
        "colab_type": "code",
        "colab": {}
      },
      "source": [
        "import numpy as np\n",
        "import os\n",
        "import tensorflow as tf\n"
      ],
      "execution_count": 8,
      "outputs": []
    },
    {
      "cell_type": "code",
      "metadata": {
        "id": "IlSBoeP7ktsK",
        "colab_type": "code",
        "colab": {}
      },
      "source": [
        "from keras.datasets import cifar10"
      ],
      "execution_count": 1,
      "outputs": []
    },
    {
      "cell_type": "code",
      "metadata": {
        "id": "5KZDGNPcktwj",
        "colab_type": "code",
        "colab": {
          "base_uri": "https://localhost:8080/",
          "height": 50
        },
        "outputId": "ae7bf170-4156-4cb0-8e34-f0ab7fc3e73d"
      },
      "source": [
        "(X_train, y_train), (X_test, y_test) = cifar10.load_data()"
      ],
      "execution_count": 2,
      "outputs": [
        {
          "output_type": "stream",
          "text": [
            "Downloading data from https://www.cs.toronto.edu/~kriz/cifar-10-python.tar.gz\n",
            "170500096/170498071 [==============================] - 6s 0us/step\n"
          ],
          "name": "stdout"
        }
      ]
    },
    {
      "cell_type": "code",
      "metadata": {
        "id": "gVl1fhEGlCej",
        "colab_type": "code",
        "colab": {
          "base_uri": "https://localhost:8080/",
          "height": 166
        },
        "outputId": "559049da-513f-472c-e665-1d966470a883"
      },
      "source": [
        "print (\"Training data:\")\n",
        "print (\"Number of examples: \", X_train.shape[0])\n",
        "print (\"Number of channels:\",X_train.shape[3]) \n",
        "print (\"Image size:\", X_train.shape[1], X_train.shape[2])\n",
        "print\n",
        "print (\"Test data:\")\n",
        "print (\"Number of examples:\", X_test.shape[0])\n",
        "print (\"Number of channels:\", X_test.shape[3])\n",
        "print (\"Image size:\", X_test.shape[1], X_test.shape[2]) \n",
        "\n",
        "print(X_train.shape, X_train.dtype)"
      ],
      "execution_count": 3,
      "outputs": [
        {
          "output_type": "stream",
          "text": [
            "Training data:\n",
            "Number of examples:  50000\n",
            "Number of channels: 3\n",
            "Image size: 32 32\n",
            "Test data:\n",
            "Number of examples: 10000\n",
            "Number of channels: 3\n",
            "Image size: 32 32\n",
            "(50000, 32, 32, 3) uint8\n"
          ],
          "name": "stdout"
        }
      ]
    },
    {
      "cell_type": "markdown",
      "metadata": {
        "id": "T0Bhqs_YlgtA",
        "colab_type": "text"
      },
      "source": [
        "\n",
        "Visualization Dataset\n",
        "\n"
      ]
    },
    {
      "cell_type": "code",
      "metadata": {
        "id": "dlEVzVeHlCgq",
        "colab_type": "code",
        "colab": {}
      },
      "source": [
        "def pprint(arr, pnt_cnt):\n",
        "    if pnt_cnt > 0:\n",
        "      print(\"type:{}\".format(type(arr)))\n",
        "    if pnt_cnt > 1:\n",
        "      print(\"shape: {}, dimension: {}, dtype:{}\".format(arr.shape, arr.ndim, arr.dtype))\n",
        "    if pnt_cnt > 2:\n",
        "      print(\"Array's Data:\\n\", arr)"
      ],
      "execution_count": 4,
      "outputs": []
    },
    {
      "cell_type": "code",
      "metadata": {
        "id": "MyRjiKYolCik",
        "colab_type": "code",
        "colab": {
          "base_uri": "https://localhost:8080/",
          "height": 50
        },
        "outputId": "a4c3b5d4-8b99-456b-fcc6-568eafd6c90f"
      },
      "source": [
        "pprint(X_train[0],2)"
      ],
      "execution_count": 6,
      "outputs": [
        {
          "output_type": "stream",
          "text": [
            "type:<class 'numpy.ndarray'>\n",
            "shape: (32, 32, 3), dimension: 3, dtype:uint8\n"
          ],
          "name": "stdout"
        }
      ]
    },
    {
      "cell_type": "code",
      "metadata": {
        "id": "cFNThc1PlCkr",
        "colab_type": "code",
        "colab": {
          "base_uri": "https://localhost:8080/",
          "height": 124
        },
        "outputId": "32deb1cb-30d3-4a55-9adf-fcf456be0088"
      },
      "source": [
        "import matplotlib.pyplot as plt\n",
        "\n",
        "\n",
        "plt.subplot(141)\n",
        "plt.imshow(X_train[0], interpolation=\"bicubic\")\n",
        "plt.grid(False)\n",
        "plt.subplot(142)\n",
        "plt.imshow(X_train[4], interpolation=\"bicubic\")\n",
        "plt.grid(False)\n",
        "plt.subplot(143)\n",
        "plt.imshow(X_train[8], interpolation=\"bicubic\")\n",
        "plt.grid(False)\n",
        "plt.subplot(144)\n",
        "plt.imshow(X_train[12], interpolation=\"bicubic\")\n",
        "plt.grid(False)\n",
        "plt.show()"
      ],
      "execution_count": 7,
      "outputs": [
        {
          "output_type": "display_data",
          "data": {
            "image/png": "[encoded data removed]",
            "text/plain": [
              "<Figure size 432x288 with 4 Axes>"
            ]
          },
          "metadata": {
            "tags": [],
            "needs_background": "light"
          }
        }
      ]
    },
    {
      "cell_type": "code",
      "metadata": {
        "id": "3kIc5PWZ9Hv3",
        "colab_type": "code",
        "colab": {
          "base_uri": "https://localhost:8080/",
          "height": 33
        },
        "outputId": "55c3066e-c3bd-4b73-c2c4-884ce4ddba16"
      },
      "source": [
        "print(y_train[0], y_train[4], y_train[8], y_train[12])"
      ],
      "execution_count": 8,
      "outputs": [
        {
          "output_type": "stream",
          "text": [
            "[6] [1] [8] [7]\n"
          ],
          "name": "stdout"
        }
      ]
    },
    {
      "cell_type": "code",
      "metadata": {
        "id": "Dr-rGR6KlCqp",
        "colab_type": "code",
        "colab": {
          "base_uri": "https://localhost:8080/",
          "height": 50
        },
        "outputId": "353e1377-0830-4cb1-e5af-16a5c63adaf9"
      },
      "source": [
        "pprint(y_train,2)"
      ],
      "execution_count": 9,
      "outputs": [
        {
          "output_type": "stream",
          "text": [
            "type:<class 'numpy.ndarray'>\n",
            "shape: (50000, 1), dimension: 2, dtype:uint8\n"
          ],
          "name": "stdout"
        }
      ]
    },
    {
      "cell_type": "markdown",
      "metadata": {
        "id": "_yeXDT9Ez650",
        "colab_type": "text"
      },
      "source": [
        "Train / Validation Split"
      ]
    },
    {
      "cell_type": "code",
      "metadata": {
        "id": "mO_8ggYWz50-",
        "colab_type": "code",
        "colab": {}
      },
      "source": [
        "# model.fit 단계에서 validation_split 옵션 사용예정 \n",
        "\n",
        "# 미사용 로직\n",
        "#(X_train, X_valid) = X_train[5000:], X_train[:5000]\n",
        "#(y_train, y_valid) = y_train[5000:], y_train[:5000 ]"
      ],
      "execution_count": 7,
      "outputs": []
    },
    {
      "cell_type": "code",
      "metadata": {
        "id": "_hzg_7Oyz5_Z",
        "colab_type": "code",
        "colab": {
          "base_uri": "https://localhost:8080/",
          "height": 50
        },
        "outputId": "3b0446a7-e52e-4f14-bb69-fbb1350f08dc"
      },
      "source": [
        "print (\"mean before normalization:\", np.mean(X_train)) \n",
        "print (\"std before normalization:\", np.std(X_train))"
      ],
      "execution_count": 9,
      "outputs": [
        {
          "output_type": "stream",
          "text": [
            "mean before normalization: 120.70756512369792\n",
            "std before normalization: 64.1500758911213\n"
          ],
          "name": "stdout"
        }
      ]
    },
    {
      "cell_type": "markdown",
      "metadata": {
        "id": "-F_Us5KHz87b",
        "colab_type": "text"
      },
      "source": [
        "X_train Data reshape (32,32,3) >> (3072,1)"
      ]
    },
    {
      "cell_type": "code",
      "metadata": {
        "id": "ktnApjjtyIfc",
        "colab_type": "code",
        "colab": {}
      },
      "source": [
        "# 입력값을 1차원 변환\n",
        "# layer 구성시 flatten 사용해서 처리할 수도 있음.\n",
        "X_train_1D = X_train.reshape(-1,3072)\n"
      ],
      "execution_count": 10,
      "outputs": []
    },
    {
      "cell_type": "code",
      "metadata": {
        "id": "t3jU4F5LzxcU",
        "colab_type": "code",
        "colab": {
          "base_uri": "https://localhost:8080/",
          "height": 183
        },
        "outputId": "bd861711-2380-472d-de46-42a8cecabf2d"
      },
      "source": [
        "pprint(X_train_1D,3)"
      ],
      "execution_count": 11,
      "outputs": [
        {
          "output_type": "stream",
          "text": [
            "type:<class 'numpy.ndarray'>\n",
            "shape: (50000, 3072), dimension: 2, dtype:uint8\n",
            "Array's Data:\n",
            " [[ 59  62  63 ... 123  92  72]\n",
            " [154 177 187 ... 143 133 144]\n",
            " [255 255 255 ...  80  86  84]\n",
            " ...\n",
            " [ 35 178 235 ...  12  31  50]\n",
            " [189 211 240 ... 195 190 171]\n",
            " [229 229 239 ... 163 163 161]]\n"
          ],
          "name": "stdout"
        }
      ]
    },
    {
      "cell_type": "markdown",
      "metadata": {
        "id": "bNTvVpGF7xFP",
        "colab_type": "text"
      },
      "source": [
        "label 항목 one_hot_encoding 처리\n",
        "10개 클래스로 구성"
      ]
    },
    {
      "cell_type": "code",
      "metadata": {
        "id": "8igQIjUlp7xo",
        "colab_type": "code",
        "colab": {}
      },
      "source": [
        "import keras.utils\n",
        "\n",
        "one_hot_labels = keras.utils.to_categorical(y_train, num_classes=10)"
      ],
      "execution_count": 12,
      "outputs": []
    },
    {
      "cell_type": "code",
      "metadata": {
        "id": "-qwPy7pzx1bh",
        "colab_type": "code",
        "colab": {
          "base_uri": "https://localhost:8080/",
          "height": 183
        },
        "outputId": "95159f8a-f2f2-4e60-f035-4bc51972822d"
      },
      "source": [
        "pprint(one_hot_labels,3)"
      ],
      "execution_count": 14,
      "outputs": [
        {
          "output_type": "stream",
          "text": [
            "type:<class 'numpy.ndarray'>\n",
            "shape: (50000, 10), dimension: 2, dtype:float32\n",
            "Array's Data:\n",
            " [[0. 0. 0. ... 0. 0. 0.]\n",
            " [0. 0. 0. ... 0. 0. 1.]\n",
            " [0. 0. 0. ... 0. 0. 1.]\n",
            " ...\n",
            " [0. 0. 0. ... 0. 0. 1.]\n",
            " [0. 1. 0. ... 0. 0. 0.]\n",
            " [0. 1. 0. ... 0. 0. 0.]]\n"
          ],
          "name": "stdout"
        }
      ]
    },
    {
      "cell_type": "code",
      "metadata": {
        "id": "V2x-qnqbxz6f",
        "colab_type": "code",
        "colab": {}
      },
      "source": [
        ""
      ],
      "execution_count": null,
      "outputs": []
    },
    {
      "cell_type": "markdown",
      "metadata": {
        "id": "HM1bBPNVp7dS",
        "colab_type": "text"
      },
      "source": [
        "Fully connected layer Model 만들기\n",
        "\n",
        "https://keras.io/ko/getting-started/sequential-model-guide/"
      ]
    },
    {
      "cell_type": "code",
      "metadata": {
        "id": "NzB0jmfwqK6b",
        "colab_type": "code",
        "colab": {}
      },
      "source": [
        "from keras.models import Sequential\n",
        "from keras.layers import Dense , Flatten\n",
        "from keras.layers.normalization import BatchNormalization\n",
        "import keras.utils\n",
        "from keras import layers , activations\n",
        "from keras.optimizers import SGD\n",
        "\n",
        "\n"
      ],
      "execution_count": 13,
      "outputs": []
    },
    {
      "cell_type": "markdown",
      "metadata": {
        "id": "K8QmG1z93my7",
        "colab_type": "text"
      },
      "source": [
        "MODEL #1 - 입력데이터 batch normalizion 미적용\n",
        "\n",
        "입력데이터 그대로 full connected layer로만 연결"
      ]
    },
    {
      "cell_type": "code",
      "metadata": {
        "id": "v4ShDn1kp7vt",
        "colab_type": "code",
        "colab": {
          "base_uri": "https://localhost:8080/",
          "height": 316
        },
        "outputId": "c5f8c6a2-28fe-4009-93a2-8514d6eb041f"
      },
      "source": [
        "model_fc1 = Sequential()\n",
        "\n",
        "model_fc1.add(Dense(3072, activation='relu', input_dim=3072))\n",
        "\n",
        "model_fc1.add(Dense(1024,activation='relu'))\n",
        "model_fc1.add(Dense(512,activation='relu'))\n",
        "model_fc1.add(Dense(256,activation='relu'))\n",
        "model_fc1.add(Dense(10,activation='softmax'))\n",
        "\n",
        "# gradient decent 추가\n",
        "sgd = SGD(lr=1e-1, decay=1 )\n",
        "\n",
        "model_fc1.compile(optimizer='sgd',\n",
        "                 loss='categorical_crossentropy',\n",
        "                 metrics=['accuracy'])\n",
        "\n",
        "model_fc1.summary()"
      ],
      "execution_count": 14,
      "outputs": [
        {
          "output_type": "stream",
          "text": [
            "Model: \"sequential\"\n",
            "_________________________________________________________________\n",
            "Layer (type)                 Output Shape              Param #   \n",
            "=================================================================\n",
            "dense (Dense)                (None, 3072)              9440256   \n",
            "_________________________________________________________________\n",
            "dense_1 (Dense)              (None, 1024)              3146752   \n",
            "_________________________________________________________________\n",
            "dense_2 (Dense)              (None, 512)               524800    \n",
            "_________________________________________________________________\n",
            "dense_3 (Dense)              (None, 256)               131328    \n",
            "_________________________________________________________________\n",
            "dense_4 (Dense)              (None, 10)                2570      \n",
            "=================================================================\n",
            "Total params: 13,245,706\n",
            "Trainable params: 13,245,706\n",
            "Non-trainable params: 0\n",
            "_________________________________________________________________\n"
          ],
          "name": "stdout"
        }
      ]
    },
    {
      "cell_type": "code",
      "metadata": {
        "id": "ii1wNDBA5fpd",
        "colab_type": "code",
        "colab": {
          "base_uri": "https://localhost:8080/",
          "height": 420
        },
        "outputId": "1e8a2ac3-943d-4560-f506-f337cbd532b1"
      },
      "source": [
        "model_fc1.fit(X_train_1D, one_hot_labels, epochs=10, batch_size=1000, validation_split=0.2)"
      ],
      "execution_count": 15,
      "outputs": [
        {
          "output_type": "stream",
          "text": [
            "Epoch 1/10\n",
            " 1/40 [..............................] - ETA: 0s - loss: 113.0899 - accuracy: 0.1030WARNING:tensorflow:Callbacks method `on_train_batch_end` is slow compared to the batch time (batch time: 0.0072s vs `on_train_batch_end` time: 0.0120s). Check your callbacks.\n",
            "38/40 [===========================>..] - ETA: 0s - loss: nan - accuracy: 0.1002WARNING:tensorflow:Callbacks method `on_test_batch_end` is slow compared to the batch time (batch time: 0.0022s vs `on_test_batch_end` time: 0.0041s). Check your callbacks.\n",
            "40/40 [==============================] - 1s 17ms/step - loss: nan - accuracy: 0.0999 - val_loss: nan - val_accuracy: 0.1014\n",
            "Epoch 2/10\n",
            "40/40 [==============================] - 1s 14ms/step - loss: nan - accuracy: 0.0997 - val_loss: nan - val_accuracy: 0.1014\n",
            "Epoch 3/10\n",
            "40/40 [==============================] - 1s 14ms/step - loss: nan - accuracy: 0.0997 - val_loss: nan - val_accuracy: 0.1014\n",
            "Epoch 4/10\n",
            "40/40 [==============================] - 1s 14ms/step - loss: nan - accuracy: 0.0997 - val_loss: nan - val_accuracy: 0.1014\n",
            "Epoch 5/10\n",
            "40/40 [==============================] - 1s 14ms/step - loss: nan - accuracy: 0.0997 - val_loss: nan - val_accuracy: 0.1014\n",
            "Epoch 6/10\n",
            "40/40 [==============================] - 1s 14ms/step - loss: nan - accuracy: 0.0997 - val_loss: nan - val_accuracy: 0.1014\n",
            "Epoch 7/10\n",
            "40/40 [==============================] - 1s 14ms/step - loss: nan - accuracy: 0.0997 - val_loss: nan - val_accuracy: 0.1014\n",
            "Epoch 8/10\n",
            "40/40 [==============================] - 1s 14ms/step - loss: nan - accuracy: 0.0997 - val_loss: nan - val_accuracy: 0.1014\n",
            "Epoch 9/10\n",
            "40/40 [==============================] - 1s 14ms/step - loss: nan - accuracy: 0.0997 - val_loss: nan - val_accuracy: 0.1014\n",
            "Epoch 10/10\n",
            "40/40 [==============================] - 1s 14ms/step - loss: nan - accuracy: 0.0997 - val_loss: nan - val_accuracy: 0.1014\n"
          ],
          "name": "stdout"
        },
        {
          "output_type": "execute_result",
          "data": {
            "text/plain": [
              "<tensorflow.python.keras.callbacks.History at 0x7f793a5d9c50>"
            ]
          },
          "metadata": {
            "tags": []
          },
          "execution_count": 15
        }
      ]
    },
    {
      "cell_type": "code",
      "metadata": {
        "id": "WuZwpOfL5j2l",
        "colab_type": "code",
        "colab": {
          "base_uri": "https://localhost:8080/",
          "height": 50
        },
        "outputId": "4dd32fbd-9019-42f5-ffbf-ddbb36af5ab5"
      },
      "source": [
        "X_test_1D = X_test.reshape(-1,3072)\n",
        "one_hot_y_test = keras.utils.to_categorical(y_test, num_classes=10)\n",
        "\n",
        "model_fc1.evaluate(X_test_1D, one_hot_y_test, batch_size=1000)"
      ],
      "execution_count": 18,
      "outputs": [
        {
          "output_type": "stream",
          "text": [
            "10/10 [==============================] - 0s 7ms/step - loss: nan - accuracy: 0.1000\n"
          ],
          "name": "stdout"
        },
        {
          "output_type": "execute_result",
          "data": {
            "text/plain": [
              "[nan, 0.10000000149011612]"
            ]
          },
          "metadata": {
            "tags": []
          },
          "execution_count": 18
        }
      ]
    },
    {
      "cell_type": "code",
      "metadata": {
        "id": "9yvm_IF25j7T",
        "colab_type": "code",
        "colab": {}
      },
      "source": [
        ""
      ],
      "execution_count": null,
      "outputs": []
    },
    {
      "cell_type": "markdown",
      "metadata": {
        "id": "Gnq6BH6J3pNl",
        "colab_type": "text"
      },
      "source": [
        "MODEL #2 - 입력레이어 batchNormalization 적용"
      ]
    },
    {
      "cell_type": "code",
      "metadata": {
        "id": "EqDxnc_Oz799",
        "colab_type": "code",
        "colab": {
          "base_uri": "https://localhost:8080/",
          "height": 383
        },
        "outputId": "13d7189a-6b0f-4846-beaf-520b86c8b474"
      },
      "source": [
        "model_fc2 = Sequential()\n",
        "\n",
        "# 첫번째 입력레이어 - BatchNormalization 적용\n",
        "model_fc2.add(Dense(3072,input_dim=3072))\n",
        "model_fc2.add(BatchNormalization())\n",
        "model_fc2.add(layers.Activation(activations.relu))\n",
        "\n",
        "\n",
        "model_fc2.add(Dense(1024,activation='relu'))\n",
        "model_fc2.add(Dense(512,activation='relu'))\n",
        "model_fc2.add(Dense(256,activation='relu'))\n",
        "model_fc2.add(Dense(10,activation='softmax'))\n",
        "\n",
        "# gradient decent 추가\n",
        "sgd = SGD(lr=1e1, decay=1 )\n",
        "\n",
        "model_fc2.compile(optimizer='sgd',\n",
        "                 loss='categorical_crossentropy',\n",
        "                 metrics=['accuracy'])\n",
        "\n",
        "model_fc2.summary()\n",
        "\n",
        "\n"
      ],
      "execution_count": 22,
      "outputs": [
        {
          "output_type": "stream",
          "text": [
            "Model: \"sequential_2\"\n",
            "_________________________________________________________________\n",
            "Layer (type)                 Output Shape              Param #   \n",
            "=================================================================\n",
            "dense_10 (Dense)             (None, 3072)              9440256   \n",
            "_________________________________________________________________\n",
            "batch_normalization_1 (Batch (None, 3072)              12288     \n",
            "_________________________________________________________________\n",
            "activation_1 (Activation)    (None, 3072)              0         \n",
            "_________________________________________________________________\n",
            "dense_11 (Dense)             (None, 1024)              3146752   \n",
            "_________________________________________________________________\n",
            "dense_12 (Dense)             (None, 512)               524800    \n",
            "_________________________________________________________________\n",
            "dense_13 (Dense)             (None, 256)               131328    \n",
            "_________________________________________________________________\n",
            "dense_14 (Dense)             (None, 10)                2570      \n",
            "=================================================================\n",
            "Total params: 13,257,994\n",
            "Trainable params: 13,251,850\n",
            "Non-trainable params: 6,144\n",
            "_________________________________________________________________\n"
          ],
          "name": "stdout"
        }
      ]
    },
    {
      "cell_type": "code",
      "metadata": {
        "id": "ta9-xJQF2IUX",
        "colab_type": "code",
        "colab": {
          "base_uri": "https://localhost:8080/",
          "height": 1000
        },
        "outputId": "e039736c-85af-4e1f-cfa7-6fbe6e5f13e9"
      },
      "source": [
        "hist = model_fc2.fit(X_train_1D, one_hot_labels, epochs=40, batch_size=1000, validation_split=0.2)"
      ],
      "execution_count": 23,
      "outputs": [
        {
          "output_type": "stream",
          "text": [
            "Epoch 1/40\n",
            " 1/40 [..............................] - ETA: 0s - loss: 2.6838 - accuracy: 0.1050WARNING:tensorflow:Callbacks method `on_train_batch_end` is slow compared to the batch time (batch time: 0.0064s vs `on_train_batch_end` time: 0.0107s). Check your callbacks.\n",
            "37/40 [==========================>...] - ETA: 0s - loss: 2.1007 - accuracy: 0.2501WARNING:tensorflow:Callbacks method `on_test_batch_end` is slow compared to the batch time (batch time: 0.0023s vs `on_test_batch_end` time: 0.0041s). Check your callbacks.\n",
            "40/40 [==============================] - 1s 18ms/step - loss: 2.0879 - accuracy: 0.2554 - val_loss: 2.6619 - val_accuracy: 0.1984\n",
            "Epoch 2/40\n",
            "40/40 [==============================] - 1s 15ms/step - loss: 1.8494 - accuracy: 0.3496 - val_loss: 2.0151 - val_accuracy: 0.2985\n",
            "Epoch 3/40\n",
            "40/40 [==============================] - 1s 15ms/step - loss: 1.7483 - accuracy: 0.3894 - val_loss: 1.8691 - val_accuracy: 0.3428\n",
            "Epoch 4/40\n",
            "40/40 [==============================] - 1s 15ms/step - loss: 1.6804 - accuracy: 0.4156 - val_loss: 1.7533 - val_accuracy: 0.3828\n",
            "Epoch 5/40\n",
            "40/40 [==============================] - 1s 15ms/step - loss: 1.6276 - accuracy: 0.4369 - val_loss: 1.6874 - val_accuracy: 0.4116\n",
            "Epoch 6/40\n",
            "40/40 [==============================] - 1s 15ms/step - loss: 1.5845 - accuracy: 0.4525 - val_loss: 1.6533 - val_accuracy: 0.4253\n",
            "Epoch 7/40\n",
            "40/40 [==============================] - 1s 15ms/step - loss: 1.5455 - accuracy: 0.4669 - val_loss: 1.6220 - val_accuracy: 0.4353\n",
            "Epoch 8/40\n",
            "40/40 [==============================] - 1s 15ms/step - loss: 1.5124 - accuracy: 0.4780 - val_loss: 1.6138 - val_accuracy: 0.4368\n",
            "Epoch 9/40\n",
            "40/40 [==============================] - 1s 15ms/step - loss: 1.4811 - accuracy: 0.4900 - val_loss: 1.5919 - val_accuracy: 0.4409\n",
            "Epoch 10/40\n",
            "40/40 [==============================] - 1s 15ms/step - loss: 1.4519 - accuracy: 0.5018 - val_loss: 1.5667 - val_accuracy: 0.4536\n",
            "Epoch 11/40\n",
            "40/40 [==============================] - 1s 16ms/step - loss: 1.4257 - accuracy: 0.5101 - val_loss: 1.5641 - val_accuracy: 0.4538\n",
            "Epoch 12/40\n",
            "40/40 [==============================] - 1s 15ms/step - loss: 1.4010 - accuracy: 0.5184 - val_loss: 1.5476 - val_accuracy: 0.4583\n",
            "Epoch 13/40\n",
            "40/40 [==============================] - 1s 15ms/step - loss: 1.3756 - accuracy: 0.5284 - val_loss: 1.5338 - val_accuracy: 0.4647\n",
            "Epoch 14/40\n",
            "40/40 [==============================] - 1s 15ms/step - loss: 1.3527 - accuracy: 0.5368 - val_loss: 1.5216 - val_accuracy: 0.4694\n",
            "Epoch 15/40\n",
            "40/40 [==============================] - 1s 15ms/step - loss: 1.3292 - accuracy: 0.5476 - val_loss: 1.5196 - val_accuracy: 0.4712\n",
            "Epoch 16/40\n",
            "40/40 [==============================] - 1s 15ms/step - loss: 1.3081 - accuracy: 0.5559 - val_loss: 1.4998 - val_accuracy: 0.4757\n",
            "Epoch 17/40\n",
            "40/40 [==============================] - 1s 15ms/step - loss: 1.2853 - accuracy: 0.5628 - val_loss: 1.4938 - val_accuracy: 0.4749\n",
            "Epoch 18/40\n",
            "40/40 [==============================] - 1s 15ms/step - loss: 1.2641 - accuracy: 0.5711 - val_loss: 1.4806 - val_accuracy: 0.4830\n",
            "Epoch 19/40\n",
            "40/40 [==============================] - 1s 15ms/step - loss: 1.2436 - accuracy: 0.5778 - val_loss: 1.4738 - val_accuracy: 0.4870\n",
            "Epoch 20/40\n",
            "40/40 [==============================] - 1s 15ms/step - loss: 1.2255 - accuracy: 0.5853 - val_loss: 1.4727 - val_accuracy: 0.4822\n",
            "Epoch 21/40\n",
            "40/40 [==============================] - 1s 15ms/step - loss: 1.2033 - accuracy: 0.5931 - val_loss: 1.4601 - val_accuracy: 0.4895\n",
            "Epoch 22/40\n",
            "40/40 [==============================] - 1s 15ms/step - loss: 1.1830 - accuracy: 0.6030 - val_loss: 1.4649 - val_accuracy: 0.4885\n",
            "Epoch 23/40\n",
            "40/40 [==============================] - 1s 15ms/step - loss: 1.1620 - accuracy: 0.6092 - val_loss: 1.4486 - val_accuracy: 0.4960\n",
            "Epoch 24/40\n",
            "40/40 [==============================] - 1s 15ms/step - loss: 1.1401 - accuracy: 0.6184 - val_loss: 1.4671 - val_accuracy: 0.4945\n",
            "Epoch 25/40\n",
            "40/40 [==============================] - 1s 15ms/step - loss: 1.1245 - accuracy: 0.6230 - val_loss: 1.4412 - val_accuracy: 0.4994\n",
            "Epoch 26/40\n",
            "40/40 [==============================] - 1s 15ms/step - loss: 1.1056 - accuracy: 0.6308 - val_loss: 1.4547 - val_accuracy: 0.4964\n",
            "Epoch 27/40\n",
            "40/40 [==============================] - 1s 15ms/step - loss: 1.0826 - accuracy: 0.6421 - val_loss: 1.4393 - val_accuracy: 0.5017\n",
            "Epoch 28/40\n",
            "40/40 [==============================] - 1s 15ms/step - loss: 1.0635 - accuracy: 0.6495 - val_loss: 1.4352 - val_accuracy: 0.4997\n",
            "Epoch 29/40\n",
            "40/40 [==============================] - 1s 15ms/step - loss: 1.0483 - accuracy: 0.6535 - val_loss: 1.4409 - val_accuracy: 0.5000\n",
            "Epoch 30/40\n",
            "40/40 [==============================] - 1s 15ms/step - loss: 1.0322 - accuracy: 0.6599 - val_loss: 1.4165 - val_accuracy: 0.5078\n",
            "Epoch 31/40\n",
            "40/40 [==============================] - 1s 15ms/step - loss: 1.0252 - accuracy: 0.6603 - val_loss: 1.4738 - val_accuracy: 0.4918\n",
            "Epoch 32/40\n",
            "40/40 [==============================] - 1s 15ms/step - loss: 0.9927 - accuracy: 0.6740 - val_loss: 1.4169 - val_accuracy: 0.5067\n",
            "Epoch 33/40\n",
            "40/40 [==============================] - 1s 15ms/step - loss: 0.9724 - accuracy: 0.6836 - val_loss: 1.4466 - val_accuracy: 0.5038\n",
            "Epoch 34/40\n",
            "40/40 [==============================] - 1s 15ms/step - loss: 0.9648 - accuracy: 0.6835 - val_loss: 1.4464 - val_accuracy: 0.5020\n",
            "Epoch 35/40\n",
            "40/40 [==============================] - 1s 15ms/step - loss: 0.9513 - accuracy: 0.6884 - val_loss: 1.4445 - val_accuracy: 0.5012\n",
            "Epoch 36/40\n",
            "40/40 [==============================] - 1s 15ms/step - loss: 0.9439 - accuracy: 0.6888 - val_loss: 1.4574 - val_accuracy: 0.5011\n",
            "Epoch 37/40\n",
            "40/40 [==============================] - 1s 15ms/step - loss: 0.9018 - accuracy: 0.7107 - val_loss: 1.4234 - val_accuracy: 0.5145\n",
            "Epoch 38/40\n",
            "40/40 [==============================] - 1s 15ms/step - loss: 0.8850 - accuracy: 0.7138 - val_loss: 1.4327 - val_accuracy: 0.5136\n",
            "Epoch 39/40\n",
            "40/40 [==============================] - 1s 15ms/step - loss: 0.8783 - accuracy: 0.7172 - val_loss: 1.4280 - val_accuracy: 0.5127\n",
            "Epoch 40/40\n",
            "40/40 [==============================] - 1s 15ms/step - loss: 0.8802 - accuracy: 0.7103 - val_loss: 1.4493 - val_accuracy: 0.5051\n"
          ],
          "name": "stdout"
        }
      ]
    },
    {
      "cell_type": "markdown",
      "metadata": {
        "id": "3_PN9gU2waPV",
        "colab_type": "text"
      },
      "source": [
        "Loss curve 그리기\n"
      ]
    },
    {
      "cell_type": "code",
      "metadata": {
        "id": "3tPGIFdNwZZ6",
        "colab_type": "code",
        "colab": {
          "base_uri": "https://localhost:8080/",
          "height": 283
        },
        "outputId": "59c1ddf9-e6c8-4955-e38a-bbe17a6e10e6"
      },
      "source": [
        "import matplotlib.pyplot as plt\n",
        "\n",
        "fig, loss_ax = plt.subplots()\n",
        "acc_ax = loss_ax.twinx()\n",
        "\n",
        "loss_ax.plot(hist.history['loss'], 'y', label='train loss')\n",
        "loss_ax.plot(hist.history['val_loss'], 'r', label='val loss')\n",
        "loss_ax.set_xlabel('epoch')\n",
        "loss_ax.set_ylabel('loss')\n",
        "loss_ax.legend(loc='upper left')\n",
        "\n",
        "acc_ax.plot(hist.history['accuracy'], 'b', label='train acc')\n",
        "acc_ax.plot(hist.history['val_accuracy'], 'g', label='val acc')\n",
        "acc_ax.set_ylabel('accuracy')\n",
        "acc_ax.legend(loc='lower left')\n",
        "\n",
        "plt.show()\n"
      ],
      "execution_count": 24,
      "outputs": [
        {
          "output_type": "display_data",
          "data": {
            "image/png": "[encoded data removed]",
            "text/plain": [
              "<Figure size 432x288 with 2 Axes>"
            ]
          },
          "metadata": {
            "tags": [],
            "needs_background": "light"
          }
        }
      ]
    },
    {
      "cell_type": "code",
      "metadata": {
        "id": "TqmUoPvxwecz",
        "colab_type": "code",
        "colab": {}
      },
      "source": [
        ""
      ],
      "execution_count": null,
      "outputs": []
    },
    {
      "cell_type": "code",
      "metadata": {
        "id": "ZNb3rVJHwee-",
        "colab_type": "code",
        "colab": {}
      },
      "source": [
        ""
      ],
      "execution_count": null,
      "outputs": []
    },
    {
      "cell_type": "markdown",
      "metadata": {
        "id": "2i2m0IvM_IUS",
        "colab_type": "text"
      },
      "source": [
        "Test Set 검증하기"
      ]
    },
    {
      "cell_type": "code",
      "metadata": {
        "id": "WFsWUi9R92Ur",
        "colab_type": "code",
        "colab": {
          "base_uri": "https://localhost:8080/",
          "height": 50
        },
        "outputId": "e4cb1ce0-af09-4d9d-c7b4-877a82795e96"
      },
      "source": [
        "X_test_1D = X_test.reshape(-1,3072)\n",
        "one_hot_y_test = keras.utils.to_categorical(y_test, num_classes=10)\n",
        "\n",
        "model_fc2.evaluate(X_test_1D, one_hot_y_test, batch_size=1000)"
      ],
      "execution_count": 25,
      "outputs": [
        {
          "output_type": "stream",
          "text": [
            "10/10 [==============================] - 0s 7ms/step - loss: 1.4342 - accuracy: 0.5021\n"
          ],
          "name": "stdout"
        },
        {
          "output_type": "execute_result",
          "data": {
            "text/plain": [
              "[1.434155821800232, 0.5020999908447266]"
            ]
          },
          "metadata": {
            "tags": []
          },
          "execution_count": 25
        }
      ]
    },
    {
      "cell_type": "code",
      "metadata": {
        "id": "6QQxLCWe92Wv",
        "colab_type": "code",
        "colab": {}
      },
      "source": [
        ""
      ],
      "execution_count": null,
      "outputs": []
    },
    {
      "cell_type": "markdown",
      "metadata": {
        "id": "O_qqR9hH_PPn",
        "colab_type": "text"
      },
      "source": [
        "모델 layer 분석\n"
      ]
    },
    {
      "cell_type": "code",
      "metadata": {
        "id": "2Kc4ehDIRtUQ",
        "colab_type": "code",
        "colab": {
          "base_uri": "https://localhost:8080/",
          "height": 864
        },
        "outputId": "e0710011-b62b-46cf-b7ac-3a226f65f26c"
      },
      "source": [
        "from keras.utils import plot_model\n",
        "\n",
        "plot_model(model_fc2, to_file='./model.png', show_layer_names=True, show_shapes=True)"
      ],
      "execution_count": 26,
      "outputs": [
        {
          "output_type": "execute_result",
          "data": {
            "image/png": "[encoded data removed]",
            "text/plain": [
              "<IPython.core.display.Image object>"
            ]
          },
          "metadata": {
            "tags": []
          },
          "execution_count": 26
        }
      ]
    },
    {
      "cell_type": "code",
      "metadata": {
        "id": "5ufB5MPM92Y_",
        "colab_type": "code",
        "colab": {
          "base_uri": "https://localhost:8080/",
          "height": 1000
        },
        "outputId": "aa6238b6-a997-4332-f7cf-f53297691619"
      },
      "source": [
        "for layer in model_fc2.layers:\n",
        "  print(layer.get_weights())"
      ],
      "execution_count": 27,
      "outputs": [
        {
          "output_type": "stream",
          "text": [
            "[array([[-0.02093817, -0.01141191,  0.02003833, ..., -0.00818827,\n",
            "         0.01026357,  0.01714847],\n",
            "       [-0.02153934, -0.01581941,  0.01480535, ...,  0.01273579,\n",
            "         0.02823118,  0.02653425],\n",
            "       [-0.00817486,  0.03042184,  0.00798019, ...,  0.00897705,\n",
            "         0.01961368, -0.02248596],\n",
            "       ...,\n",
            "       [-0.01273456, -0.0260458 ,  0.03185543, ..., -0.02024691,\n",
            "         0.02503427, -0.0241302 ],\n",
            "       [-0.0199424 ,  0.01400306, -0.00175143, ...,  0.01351019,\n",
            "         0.01443059, -0.01402358],\n",
            "       [ 0.0197565 , -0.01626489, -0.00793253, ...,  0.00194945,\n",
            "        -0.002235  ,  0.0070946 ]], dtype=float32), array([ 2.4665543e-12,  1.8950605e-12, -6.1165753e-14, ...,\n",
            "        1.9466262e-12, -1.4150285e-12,  2.7479004e-12], dtype=float32)]\n",
            "[array([1.0011764 , 0.99990946, 1.0016375 , ..., 1.0023859 , 1.0009055 ,\n",
            "       1.0025667 ], dtype=float32), array([-0.0021191 , -0.00241769, -0.00065173, ..., -0.00225885,\n",
            "        0.00194393, -0.0023011 ], dtype=float32), array([   4.3249702, -148.28827  , -102.131386 , ...,  -48.027523 ,\n",
            "        -18.041124 ,  -10.766207 ], dtype=float32), array([3749.1475, 5771.3257, 3555.4036, ..., 1933.5621, 2548.7195,\n",
            "       1908.0823], dtype=float32)]\n",
            "[]\n",
            "[array([[-0.01874675, -0.0332316 ,  0.02242963, ...,  0.02239512,\n",
            "        -0.02570342,  0.0300271 ],\n",
            "       [-0.0234675 ,  0.01266987, -0.03470277, ..., -0.01258905,\n",
            "        -0.00997575,  0.00717101],\n",
            "       [-0.00422915, -0.03048116,  0.0161388 , ...,  0.03272857,\n",
            "        -0.01015494, -0.03787367],\n",
            "       ...,\n",
            "       [-0.00531493,  0.02301511, -0.03440055, ...,  0.0018602 ,\n",
            "        -0.00165254,  0.00010468],\n",
            "       [ 0.02417232,  0.03543383,  0.0105647 , ...,  0.03018976,\n",
            "         0.0366439 ,  0.0311304 ],\n",
            "       [ 0.0180955 ,  0.02104668,  0.0150996 , ..., -0.0232178 ,\n",
            "        -0.0371655 ,  0.01113192]], dtype=float32), array([ 8.98179132e-03,  1.54394405e-02, -9.89034161e-05, ...,\n",
            "       -6.97957352e-04,  6.83027785e-03,  8.16444866e-03], dtype=float32)]\n",
            "[array([[-0.01356636,  0.01828085, -0.02833973, ...,  0.05428107,\n",
            "         0.01871309,  0.00136005],\n",
            "       [-0.03375598,  0.03048543, -0.00441324, ...,  0.04137007,\n",
            "        -0.01411978,  0.045129  ],\n",
            "       [ 0.00494522, -0.01320679,  0.0490538 , ...,  0.00958906,\n",
            "        -0.05634998,  0.01816875],\n",
            "       ...,\n",
            "       [-0.0610827 , -0.05195834, -0.02234797, ...,  0.03519307,\n",
            "        -0.02091007,  0.03399023],\n",
            "       [-0.05003038, -0.01233309,  0.0181298 , ...,  0.03354034,\n",
            "        -0.05132756,  0.01771315],\n",
            "       [ 0.03332073,  0.00284051,  0.02974102, ...,  0.02441712,\n",
            "         0.01354395,  0.04637621]], dtype=float32), array([ 9.42769460e-03,  1.75742898e-02,  7.40794698e-03, -3.04705184e-03,\n",
            "        8.86920432e-04,  3.03000817e-03,  3.44540365e-03,  7.42332032e-03,\n",
            "        1.32309506e-03,  3.09953885e-03,  2.96445214e-03,  5.43111470e-03,\n",
            "       -8.15541018e-03, -4.10407828e-03, -3.27503891e-04,  1.94806755e-02,\n",
            "       -1.17689441e-03, -9.28026158e-03, -9.17356741e-03,  8.95781722e-03,\n",
            "        1.78557486e-04, -3.33992834e-03, -9.10720904e-04,  2.01492949e-04,\n",
            "       -9.03281942e-03,  3.79104313e-04, -3.22712888e-03, -2.38383352e-03,\n",
            "        7.15226354e-03,  5.14478376e-03,  4.89105610e-03,  7.24634621e-03,\n",
            "        2.13984344e-02, -3.28952243e-04,  1.71003235e-03,  8.63331184e-03,\n",
            "        1.86926418e-03, -1.59768555e-02,  1.11446891e-03, -3.85308289e-03,\n",
            "       -8.71217344e-03,  4.61294409e-03, -4.35019331e-03, -3.64794862e-03,\n",
            "        2.15610769e-03,  1.57957654e-02, -9.67887882e-03,  8.01059138e-03,\n",
            "       -5.32057229e-03,  9.21181031e-03, -3.61411227e-03,  9.84668033e-04,\n",
            "       -1.84289587e-03, -7.11291796e-04, -9.02009755e-03, -3.12443101e-03,\n",
            "        1.12318443e-02, -4.62344993e-04,  3.79165402e-03,  1.53594941e-04,\n",
            "        7.49047287e-03, -2.19476353e-02,  1.53511891e-03,  2.35770317e-03,\n",
            "       -1.15333591e-02, -1.44613150e-03, -4.28281585e-03,  8.44779643e-05,\n",
            "        2.74211299e-02,  3.45756416e-04,  1.13495197e-02,  2.11099554e-02,\n",
            "        2.15707743e-03,  4.68670717e-03,  1.42058835e-03,  7.00966176e-03,\n",
            "        1.02498732e-03, -7.03635858e-03,  3.58341704e-03, -5.52164204e-03,\n",
            "        3.25980829e-03, -2.32021101e-02,  3.15738819e-03, -3.96356313e-03,\n",
            "        4.20357101e-03, -1.57368637e-03,  7.68961618e-03, -5.60491532e-03,\n",
            "        1.12265712e-02,  5.41417534e-03,  1.50853265e-02,  4.46532434e-03,\n",
            "        1.37988003e-02,  4.09929082e-03, -9.57941450e-03,  4.36523871e-04,\n",
            "       -7.39907566e-03, -1.09209688e-02,  9.39818472e-03, -1.06839370e-03,\n",
            "       -1.31536769e-02,  5.51644713e-03,  2.04124395e-02,  3.26697761e-03,\n",
            "       -2.05872906e-03,  8.77801329e-03,  1.15510833e-03,  5.11457305e-03,\n",
            "       -2.61886558e-03,  1.08592575e-02, -5.55306906e-03,  1.02141139e-03,\n",
            "        1.33182519e-04,  2.32723588e-03,  1.08578997e-02,  1.22984620e-02,\n",
            "       -8.01383983e-03, -1.00862169e-04, -3.24176537e-04, -1.32578041e-03,\n",
            "       -2.79146694e-02, -1.56406593e-03,  2.98079965e-03, -3.90116096e-04,\n",
            "        6.29359158e-04,  4.20277799e-03, -2.77296500e-03,  6.33681775e-04,\n",
            "       -8.54353327e-03,  1.79890719e-06,  4.97874431e-03, -1.71394111e-03,\n",
            "        1.33668800e-04,  1.16122526e-03,  9.69179440e-03,  1.97486323e-03,\n",
            "        8.56058486e-03, -5.02434140e-03,  7.49607617e-03,  1.13412132e-02,\n",
            "        1.86173990e-02, -1.75863993e-03,  1.53479902e-02,  4.79787821e-03,\n",
            "        1.16274669e-03, -9.30132065e-03,  1.23242673e-03,  1.26324082e-02,\n",
            "       -3.06072142e-02,  4.57735558e-04, -6.27178888e-05, -3.45504259e-06,\n",
            "        3.50885978e-03, -2.97504058e-03, -5.40577294e-03,  1.13646882e-02,\n",
            "        7.58256065e-04, -5.33098239e-04,  1.07116706e-03, -9.22324229e-03,\n",
            "       -1.83439348e-02,  1.52716506e-02,  7.61981960e-03, -4.82254615e-03,\n",
            "        3.38754733e-04, -3.13324039e-03,  1.42196863e-04,  2.33877869e-03,\n",
            "        3.60662630e-03,  9.00980725e-04,  5.15685696e-03,  1.28413644e-03,\n",
            "        1.53089024e-03, -1.79278519e-04,  8.78210994e-04, -3.08921537e-03,\n",
            "        9.54757258e-03,  4.56633512e-04,  5.20461472e-03,  3.88904219e-03,\n",
            "       -4.06744471e-03, -5.07013989e-04, -4.29734064e-04, -1.52030597e-02,\n",
            "        4.48760483e-03,  2.40729027e-03, -1.04781380e-02, -7.47618219e-03,\n",
            "        7.92738236e-03, -4.54281410e-03,  7.70960888e-03, -2.31044716e-03,\n",
            "        3.15280701e-03, -1.02052605e-02,  7.75109569e-04,  4.64189053e-03,\n",
            "       -1.38227958e-02, -3.56583856e-03, -1.52456167e-03, -2.43658782e-03,\n",
            "       -7.24783214e-03, -1.11924438e-03, -1.61893182e-02, -4.56457539e-03,\n",
            "        5.32443309e-03, -1.15198619e-03,  9.23591317e-04,  4.64563956e-03,\n",
            "        2.88779009e-03,  1.00426748e-02,  6.18235790e-04,  1.96960419e-02,\n",
            "       -8.01407325e-04, -3.16064991e-03,  1.71683368e-03, -5.91889163e-03,\n",
            "        1.66237522e-02, -4.02825326e-03, -1.21469446e-03, -1.14497251e-03,\n",
            "       -2.22694338e-03,  4.40236880e-03, -3.46780871e-04, -7.71492347e-03,\n",
            "        7.60916620e-03, -9.75862611e-03,  8.56713112e-03, -3.28922039e-03,\n",
            "        9.80291609e-03,  1.48637705e-02,  6.76300027e-04, -7.26251514e-04,\n",
            "        1.79408514e-03,  1.87233571e-04,  1.61730517e-02,  1.02672272e-03,\n",
            "       -1.30625349e-02,  1.25143793e-03, -6.56007137e-03, -3.11916252e-03,\n",
            "        1.27231115e-02,  1.59614277e-03, -1.34579809e-02,  2.20453087e-02,\n",
            "        6.76446455e-03, -1.25064384e-02, -9.28426278e-04,  9.45790671e-04,\n",
            "        1.64075419e-02,  4.40393202e-03,  3.20522161e-03,  1.74413217e-04,\n",
            "        1.14647448e-02, -1.23691442e-03,  1.46656921e-02,  5.03384683e-04,\n",
            "       -8.17052182e-03, -2.74917647e-06, -5.34518436e-03,  1.71844370e-03,\n",
            "        2.12225560e-02,  1.75399054e-02, -8.38235792e-05, -9.69799701e-03,\n",
            "        7.30628474e-03, -3.05367773e-03, -1.29463174e-03,  7.76784308e-03,\n",
            "       -1.42195849e-02,  1.85471290e-04,  9.91191017e-04,  5.50269103e-03,\n",
            "        7.10769277e-03,  1.65434163e-02,  1.10286381e-02, -1.07106054e-02,\n",
            "       -5.17361145e-03, -1.58811919e-02, -6.54152175e-03,  2.05587153e-03,\n",
            "       -1.46864261e-03,  2.00314927e-04,  5.16448915e-03,  4.66789817e-03,\n",
            "        1.42429564e-02,  2.50790641e-03,  1.02251247e-02, -4.20476543e-03,\n",
            "        6.97821029e-04,  5.21491922e-04,  1.01011351e-03, -1.12055382e-03,\n",
            "        7.02950405e-03,  1.00725703e-02, -2.31888751e-03,  7.06612971e-03,\n",
            "        1.65977385e-02,  6.61265454e-04, -1.59590300e-02,  1.33668270e-03,\n",
            "       -1.14806718e-03,  7.07549334e-04, -8.25664494e-04, -8.76204576e-04,\n",
            "        2.73450190e-04,  1.10155605e-02, -8.97707185e-04, -2.45999987e-03,\n",
            "        1.08859778e-04,  6.60685357e-03, -1.53617589e-02,  6.49937149e-03,\n",
            "        2.77252053e-04,  1.74780231e-04,  3.69134638e-03,  4.89452109e-03,\n",
            "        1.18740718e-03, -7.68558355e-03,  2.54985783e-03,  2.90019135e-03,\n",
            "       -7.40032131e-03, -6.21138242e-05, -5.21782134e-03,  3.26064485e-03,\n",
            "        7.60479178e-03, -2.65689543e-03, -2.74377386e-03,  4.22145706e-03,\n",
            "       -2.71199574e-03, -3.98790784e-04, -1.88743533e-03,  1.96091328e-02,\n",
            "       -2.27666609e-02,  6.12369552e-03,  1.64530445e-02,  1.26970969e-02,\n",
            "       -8.54436960e-03, -1.17850257e-03, -1.82579723e-04,  3.89677985e-03,\n",
            "        4.99800127e-03, -2.22418439e-02,  6.26518065e-03, -1.62183978e-02,\n",
            "       -2.89341115e-04, -7.12597743e-03,  6.62199920e-04, -5.34752617e-04,\n",
            "       -9.95985349e-04, -6.50164671e-03,  3.37399729e-03, -2.81499233e-03,\n",
            "        1.84041038e-02, -1.01173040e-03,  5.22061391e-03,  7.18535809e-03,\n",
            "       -4.32694983e-03, -4.89634753e-04,  4.77370387e-03,  7.34582645e-05,\n",
            "        5.89111866e-03,  7.12718070e-03, -5.45784598e-03, -2.58291909e-03,\n",
            "        8.37120973e-03,  9.16115753e-03, -2.52856640e-04,  4.31066426e-03,\n",
            "       -8.54478800e-04, -1.04030318e-04,  6.30275020e-03,  2.94270023e-04,\n",
            "       -1.21960631e-02,  2.33637751e-04,  8.92783690e-04,  7.56193011e-04,\n",
            "        3.32535664e-03, -8.15579575e-03, -8.16305447e-03,  8.31434969e-03,\n",
            "        9.43491992e-04,  1.18829776e-03,  9.36134439e-03,  7.25208025e-04,\n",
            "        8.18410795e-03, -1.41665349e-02, -5.10674948e-03,  1.13381594e-02,\n",
            "       -3.73393355e-04,  8.33228510e-03,  4.80966922e-03, -1.11331779e-03,\n",
            "       -3.52155976e-02,  7.47418683e-03,  6.48152549e-03, -2.16919985e-02,\n",
            "       -1.11184614e-04, -6.94492925e-03,  5.77730534e-04,  8.24130606e-03,\n",
            "        1.98414549e-03,  3.30441887e-03,  3.95615119e-03, -2.37435335e-03,\n",
            "       -6.80304505e-03, -1.53802568e-04,  5.15088905e-03,  7.29687139e-03,\n",
            "       -1.22468257e-02,  1.40830642e-03,  8.65355716e-04, -2.00095284e-03,\n",
            "       -1.47030188e-03,  4.88256104e-03, -1.82072772e-03,  6.60495227e-03,\n",
            "       -1.74051663e-03, -3.21153854e-03, -5.41192340e-03,  2.63056681e-02,\n",
            "        2.81413156e-03,  2.37195590e-03,  9.34821088e-03,  1.16428491e-02,\n",
            "        1.18191317e-02,  6.04133029e-03, -9.66503844e-03,  1.38539309e-02,\n",
            "       -3.58785433e-03, -1.58603958e-04, -1.20538706e-02, -3.24917748e-03,\n",
            "        6.89523295e-03, -1.02204700e-04,  9.66714136e-03, -2.23033354e-02,\n",
            "        1.33851422e-02, -1.09765576e-02,  6.60543330e-03, -1.40220746e-02,\n",
            "        7.28079630e-03,  5.13263396e-04,  6.44030934e-03,  2.24493961e-05,\n",
            "        6.39186567e-03, -1.53284310e-03, -9.24671348e-03,  1.97798200e-02,\n",
            "        1.11923236e-02,  1.46132037e-02,  1.26476735e-02, -9.75699921e-04,\n",
            "       -7.58179594e-05, -1.74811073e-02, -5.53766126e-03,  2.32554367e-03,\n",
            "        1.86626557e-02, -3.09073715e-04, -1.32279727e-03,  8.10872298e-04,\n",
            "       -1.30430339e-02, -3.75653995e-04,  2.29927432e-02, -7.61340233e-03,\n",
            "       -3.41589155e-04,  7.74559518e-03,  1.76519156e-04, -3.71390517e-04,\n",
            "       -1.46499621e-02, -1.62712187e-02, -1.12220999e-02, -1.43237587e-03,\n",
            "       -5.56607591e-03,  9.28411540e-03,  1.81798730e-03, -1.02507910e-02,\n",
            "       -9.51959472e-03, -2.49992148e-03, -1.17426636e-02,  9.94436536e-03,\n",
            "       -9.70804505e-03,  1.96542088e-02, -1.93460612e-04,  3.07613029e-03,\n",
            "        5.45833306e-03,  2.44368929e-02,  9.30385140e-05,  2.19254196e-03,\n",
            "        1.44010084e-02, -9.15666949e-03, -1.50355999e-03,  3.58711439e-03,\n",
            "        1.64889712e-02,  3.43133393e-03,  1.93503511e-03,  3.06714186e-03,\n",
            "       -7.33056944e-03, -3.41826188e-03,  1.55534421e-03,  3.19234212e-03,\n",
            "       -9.06244095e-05, -4.20414191e-03, -1.89336799e-02,  6.45685941e-03,\n",
            "        6.62032282e-03,  1.93103775e-03, -1.89646336e-04,  2.07106024e-02,\n",
            "        1.67804901e-02,  8.23505595e-03, -8.68603867e-03,  4.09188494e-03],\n",
            "      dtype=float32)]\n",
            "[array([[ 0.08401227, -0.03172016,  0.01286205, ...,  0.04460064,\n",
            "         0.07463846, -0.02290377],\n",
            "       [ 0.04439025,  0.02080401, -0.0595727 , ...,  0.035792  ,\n",
            "         0.08742752, -0.07164446],\n",
            "       [ 0.06296317, -0.03628844, -0.00392171, ...,  0.0270013 ,\n",
            "        -0.08576451,  0.07122681],\n",
            "       ...,\n",
            "       [-0.08020628, -0.00999863,  0.03607657, ...,  0.0024613 ,\n",
            "         0.07287145, -0.04968835],\n",
            "       [ 0.00328041, -0.02036232, -0.08451682, ..., -0.05945584,\n",
            "         0.00872653, -0.03714738],\n",
            "       [ 0.00578583,  0.06408039, -0.08187377, ..., -0.06285173,\n",
            "         0.08149019, -0.00918673]], dtype=float32), array([-1.04717147e-02, -1.19246554e-03,  7.12966174e-03, -1.86520722e-02,\n",
            "       -1.54788289e-02, -4.69958642e-03, -6.25888398e-03, -2.70100753e-03,\n",
            "        1.71169895e-03,  9.48647410e-03,  9.32585821e-03,  4.87720594e-03,\n",
            "        4.61958861e-03,  2.87058554e-03,  1.73597317e-03,  2.39297673e-02,\n",
            "       -1.67680159e-03,  9.90522373e-03,  6.50924584e-03, -5.49931079e-03,\n",
            "        1.10893799e-02,  5.45734540e-03,  6.54075015e-03, -1.39232911e-02,\n",
            "        2.93353596e-03, -1.69804860e-02,  7.54304556e-03, -1.57468002e-02,\n",
            "       -2.70248530e-03, -6.53495919e-03, -5.60007384e-03,  2.03988943e-02,\n",
            "        3.37586575e-03,  1.85373276e-02,  3.98474419e-03, -1.36962844e-04,\n",
            "        1.12475210e-03,  4.60797958e-02,  7.34223379e-03,  6.25547674e-03,\n",
            "        2.68115802e-03,  3.38992476e-03, -1.73911511e-03,  7.70311919e-04,\n",
            "        1.63279462e-03,  5.54705458e-03,  4.63358266e-03,  5.43807819e-03,\n",
            "       -7.28144357e-03,  2.93639116e-03,  2.02621985e-02, -1.93043910e-02,\n",
            "        2.81964021e-04,  3.04652518e-03, -1.03026287e-04,  2.29653600e-03,\n",
            "        2.32069660e-02,  1.74009092e-02,  1.84606314e-02, -1.55563327e-03,\n",
            "       -3.85587849e-03,  1.30194183e-02,  1.21477693e-02, -5.08808205e-03,\n",
            "       -1.56467091e-02,  1.83463804e-02, -3.80088179e-03,  2.09442396e-02,\n",
            "       -8.38417467e-03, -4.29928955e-03, -2.04438213e-04,  4.51798318e-03,\n",
            "       -2.52267607e-02, -1.60071421e-02, -2.57754084e-02, -2.59164721e-04,\n",
            "        4.14378330e-04,  1.89253245e-04, -3.85676906e-03, -6.03838451e-03,\n",
            "        1.62924156e-02, -9.00374289e-05,  1.26228388e-02,  4.22601448e-03,\n",
            "        5.84532879e-03,  5.90008800e-04, -1.31253898e-02, -2.36153486e-03,\n",
            "        1.99947599e-02, -4.62564174e-03,  7.24001741e-03, -3.24384542e-03,\n",
            "       -1.50692265e-03, -1.45120118e-02,  3.21461330e-03,  1.10014388e-02,\n",
            "       -6.11657626e-04,  3.95202776e-03,  1.78111382e-02, -1.90519560e-02,\n",
            "        1.94514282e-02, -3.12611274e-03,  1.62574165e-02, -3.00146788e-02,\n",
            "        6.03012159e-04,  1.07303867e-02,  2.21997686e-02,  2.59792851e-03,\n",
            "       -3.06018852e-02, -3.31542385e-03,  2.46602925e-03, -2.19284302e-05,\n",
            "        1.00085679e-02,  3.84261506e-03,  3.79015319e-02,  2.78339139e-03,\n",
            "       -1.70523617e-02,  1.71538144e-02, -6.23282604e-03,  2.92585464e-03,\n",
            "       -1.25659630e-02, -2.77089048e-02,  1.62136485e-03, -5.13553200e-03,\n",
            "       -1.25922402e-03,  8.41629299e-05, -1.51192760e-02,  1.61586460e-02,\n",
            "        2.14044061e-02, -1.72467390e-03,  1.68549595e-03,  3.34555306e-03,\n",
            "        1.07460767e-06,  1.60899833e-02,  2.00879294e-03,  1.75231118e-02,\n",
            "        1.42883812e-03, -7.72155297e-04,  1.37407491e-02, -1.89288252e-03,\n",
            "        1.32251121e-02, -1.90524217e-02, -1.04359733e-02,  4.33984539e-03,\n",
            "       -7.77470786e-03, -1.26242535e-02, -2.10379642e-02, -2.90121343e-02,\n",
            "        1.50073329e-02,  1.44890482e-05, -2.46059103e-03,  2.42759753e-03,\n",
            "       -6.74893730e-04, -1.41071333e-02,  9.70377866e-03, -1.08331104e-03,\n",
            "       -8.98270719e-06,  2.97087133e-02,  1.31196119e-02,  3.31894797e-03,\n",
            "       -9.69594158e-03,  3.13960714e-04,  1.66965765e-03,  7.56781502e-03,\n",
            "        1.80834730e-03,  6.23148354e-03,  7.56659731e-03,  1.28282718e-02,\n",
            "        6.21781871e-03,  1.88713975e-03, -1.88283436e-03,  1.05134686e-02,\n",
            "        8.87258444e-04, -4.33053710e-02, -3.23870056e-03,  5.49685629e-03,\n",
            "        1.30854905e-05,  6.11521630e-03,  2.52843858e-03,  6.17841550e-04,\n",
            "        8.94937012e-03,  5.73850528e-04, -1.06299900e-04,  1.45719945e-03,\n",
            "       -4.64250799e-03, -2.36225736e-04, -1.13702333e-02,  1.96596654e-03,\n",
            "        4.08468721e-03,  4.05002065e-04,  1.26393512e-02,  1.87548099e-03,\n",
            "       -1.00721903e-02, -2.45487713e-03, -9.44905449e-04,  2.95302743e-05,\n",
            "        5.70856407e-03,  5.85302105e-03,  1.48196460e-03, -6.11790875e-03,\n",
            "       -5.67098754e-03,  2.17072889e-02, -9.60855596e-06, -3.87467421e-03,\n",
            "        1.85286943e-02,  2.73224851e-03,  1.57574620e-02,  1.13973608e-02,\n",
            "       -2.40502562e-02, -2.27815863e-02,  8.58927146e-04,  7.20452704e-03,\n",
            "       -9.23844986e-03,  3.00471634e-02,  5.14670275e-03,  1.52138397e-02,\n",
            "       -2.16897973e-03,  2.21868120e-02,  5.56920748e-03,  2.06259154e-02,\n",
            "        1.89191978e-02,  3.98835391e-02,  6.58980478e-03, -1.35910818e-02,\n",
            "        1.46920457e-02,  3.59306997e-03, -2.09910348e-02,  1.69581529e-02,\n",
            "        1.55600468e-02, -7.39053125e-03,  1.99080594e-02, -7.89782556e-04,\n",
            "        2.31515653e-02,  1.28098074e-02,  7.77126701e-08, -1.29792825e-04,\n",
            "       -4.72764904e-03,  2.96612792e-02,  3.07323033e-04,  2.86471155e-02,\n",
            "        4.80900286e-03,  6.69828709e-03, -8.90772353e-05,  5.67827467e-03,\n",
            "       -2.10181577e-03,  8.40125140e-03,  8.91582109e-03,  7.91077130e-03,\n",
            "       -1.14535042e-05, -2.18742993e-03, -9.03036620e-04, -2.54059266e-02,\n",
            "        1.24948164e-02,  1.81866941e-04,  1.43125318e-02, -4.52611392e-04],\n",
            "      dtype=float32)]\n",
            "[array([[ 0.09529894,  0.14434114,  0.14812967, ..., -0.21550997,\n",
            "         0.10190014,  0.19014926],\n",
            "       [-0.10984351,  0.01309876, -0.08260348, ...,  0.00370102,\n",
            "        -0.10487866,  0.00873038],\n",
            "       [ 0.03621436, -0.01525711, -0.07976663, ...,  0.118973  ,\n",
            "         0.06752869, -0.07542334],\n",
            "       ...,\n",
            "       [ 0.1310066 ,  0.02876961, -0.14396651, ..., -0.07147437,\n",
            "         0.04859093,  0.11046815],\n",
            "       [-0.15649787, -0.04498324,  0.17396973, ..., -0.16247243,\n",
            "        -0.06896499,  0.1276355 ],\n",
            "       [ 0.00910392,  0.0061954 , -0.01261471, ...,  0.09968442,\n",
            "         0.01583294, -0.09120068]], dtype=float32), array([-0.01338898, -0.06790288,  0.05976737, -0.02629473,  0.09215031,\n",
            "       -0.03643043,  0.05554397, -0.03502882,  0.02330702, -0.0517228 ],\n",
            "      dtype=float32)]\n"
          ],
          "name": "stdout"
        }
      ]
    },
    {
      "cell_type": "code",
      "metadata": {
        "id": "DOOpkYEm_Gw3",
        "colab_type": "code",
        "colab": {}
      },
      "source": [
        ""
      ],
      "execution_count": null,
      "outputs": []
    },
    {
      "cell_type": "code",
      "metadata": {
        "id": "jy2yY0vhRGKf",
        "colab_type": "code",
        "colab": {
          "base_uri": "https://localhost:8080/",
          "height": 1000
        },
        "outputId": "97aa147e-919c-4a2d-bb9a-14f3c77f2183"
      },
      "source": [
        "model_fc2.get_config()"
      ],
      "execution_count": 69,
      "outputs": [
        {
          "output_type": "execute_result",
          "data": {
            "text/plain": [
              "{'layers': [{'class_name': 'InputLayer',\n",
              "   'config': {'batch_input_shape': (None, 3072),\n",
              "    'dtype': 'float32',\n",
              "    'name': 'dense_41_input',\n",
              "    'ragged': False,\n",
              "    'sparse': False}},\n",
              "  {'class_name': 'Dense',\n",
              "   'config': {'activation': 'linear',\n",
              "    'activity_regularizer': None,\n",
              "    'batch_input_shape': (None, 3072),\n",
              "    'bias_constraint': None,\n",
              "    'bias_initializer': {'class_name': 'Zeros', 'config': {}},\n",
              "    'bias_regularizer': None,\n",
              "    'dtype': 'float32',\n",
              "    'kernel_constraint': None,\n",
              "    'kernel_initializer': {'class_name': 'GlorotUniform',\n",
              "     'config': {'seed': None}},\n",
              "    'kernel_regularizer': None,\n",
              "    'name': 'dense_41',\n",
              "    'trainable': True,\n",
              "    'units': 3072,\n",
              "    'use_bias': True}},\n",
              "  {'class_name': 'BatchNormalization',\n",
              "   'config': {'axis': ListWrapper([1]),\n",
              "    'beta_constraint': None,\n",
              "    'beta_initializer': {'class_name': 'Zeros', 'config': {}},\n",
              "    'beta_regularizer': None,\n",
              "    'center': True,\n",
              "    'dtype': 'float32',\n",
              "    'epsilon': 0.001,\n",
              "    'gamma_constraint': None,\n",
              "    'gamma_initializer': {'class_name': 'Ones', 'config': {}},\n",
              "    'gamma_regularizer': None,\n",
              "    'momentum': 0.99,\n",
              "    'moving_mean_initializer': {'class_name': 'Zeros', 'config': {}},\n",
              "    'moving_variance_initializer': {'class_name': 'Ones', 'config': {}},\n",
              "    'name': 'batch_normalization_9',\n",
              "    'scale': True,\n",
              "    'trainable': True}},\n",
              "  {'class_name': 'Activation',\n",
              "   'config': {'activation': 'relu',\n",
              "    'dtype': 'float32',\n",
              "    'name': 'activation_1',\n",
              "    'trainable': True}},\n",
              "  {'class_name': 'Dense',\n",
              "   'config': {'activation': 'relu',\n",
              "    'activity_regularizer': None,\n",
              "    'bias_constraint': None,\n",
              "    'bias_initializer': {'class_name': 'Zeros', 'config': {}},\n",
              "    'bias_regularizer': None,\n",
              "    'dtype': 'float32',\n",
              "    'kernel_constraint': None,\n",
              "    'kernel_initializer': {'class_name': 'GlorotUniform',\n",
              "     'config': {'seed': None}},\n",
              "    'kernel_regularizer': None,\n",
              "    'name': 'dense_42',\n",
              "    'trainable': True,\n",
              "    'units': 1024,\n",
              "    'use_bias': True}},\n",
              "  {'class_name': 'Dense',\n",
              "   'config': {'activation': 'relu',\n",
              "    'activity_regularizer': None,\n",
              "    'bias_constraint': None,\n",
              "    'bias_initializer': {'class_name': 'Zeros', 'config': {}},\n",
              "    'bias_regularizer': None,\n",
              "    'dtype': 'float32',\n",
              "    'kernel_constraint': None,\n",
              "    'kernel_initializer': {'class_name': 'GlorotUniform',\n",
              "     'config': {'seed': None}},\n",
              "    'kernel_regularizer': None,\n",
              "    'name': 'dense_43',\n",
              "    'trainable': True,\n",
              "    'units': 512,\n",
              "    'use_bias': True}},\n",
              "  {'class_name': 'Dense',\n",
              "   'config': {'activation': 'relu',\n",
              "    'activity_regularizer': None,\n",
              "    'bias_constraint': None,\n",
              "    'bias_initializer': {'class_name': 'Zeros', 'config': {}},\n",
              "    'bias_regularizer': None,\n",
              "    'dtype': 'float32',\n",
              "    'kernel_constraint': None,\n",
              "    'kernel_initializer': {'class_name': 'GlorotUniform',\n",
              "     'config': {'seed': None}},\n",
              "    'kernel_regularizer': None,\n",
              "    'name': 'dense_44',\n",
              "    'trainable': True,\n",
              "    'units': 256,\n",
              "    'use_bias': True}},\n",
              "  {'class_name': 'Dense',\n",
              "   'config': {'activation': 'softmax',\n",
              "    'activity_regularizer': None,\n",
              "    'bias_constraint': None,\n",
              "    'bias_initializer': {'class_name': 'Zeros', 'config': {}},\n",
              "    'bias_regularizer': None,\n",
              "    'dtype': 'float32',\n",
              "    'kernel_constraint': None,\n",
              "    'kernel_initializer': {'class_name': 'GlorotUniform',\n",
              "     'config': {'seed': None}},\n",
              "    'kernel_regularizer': None,\n",
              "    'name': 'dense_45',\n",
              "    'trainable': True,\n",
              "    'units': 10,\n",
              "    'use_bias': True}}],\n",
              " 'name': 'sequential_19'}"
            ]
          },
          "metadata": {
            "tags": []
          },
          "execution_count": 69
        }
      ]
    },
    {
      "cell_type": "code",
      "metadata": {
        "id": "LrN90ozIRtaj",
        "colab_type": "code",
        "colab": {}
      },
      "source": [
        ""
      ],
      "execution_count": null,
      "outputs": []
    },
    {
      "cell_type": "code",
      "metadata": {
        "id": "S4HVY1vDRtdA",
        "colab_type": "code",
        "colab": {}
      },
      "source": [
        ""
      ],
      "execution_count": null,
      "outputs": []
    },
    {
      "cell_type": "code",
      "metadata": {
        "id": "ktNtuLATRte9",
        "colab_type": "code",
        "colab": {}
      },
      "source": [
        ""
      ],
      "execution_count": null,
      "outputs": []
    },
    {
      "cell_type": "code",
      "metadata": {
        "id": "QPhOy45lRGM4",
        "colab_type": "code",
        "colab": {}
      },
      "source": [
        ""
      ],
      "execution_count": null,
      "outputs": []
    }
  ]
}