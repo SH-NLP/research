{
  "nbformat": 4,
  "nbformat_minor": 0,
  "metadata": {
    "colab": {
      "name": "cifar10_datagen+GlovalAverage.ipynb",
      "provenance": []
    },
    "kernelspec": {
      "name": "python3",
      "display_name": "Python 3"
    },
    "accelerator": "GPU"
  },
  "cells": [
    {
      "cell_type": "code",
      "metadata": {
        "id": "uzxoR19DuqXw"
      },
      "source": [
        "import numpy as np\n",
        "import os\n",
        "import tensorflow as tf\n",
        "import tensorflow.keras as K\n"
      ],
      "execution_count": 1,
      "outputs": []
    },
    {
      "cell_type": "code",
      "metadata": {
        "id": "jTwnDcDwu17D"
      },
      "source": [
        "from keras.datasets import cifar10\n",
        "from keras import initializers\n",
        "\n",
        "import copy"
      ],
      "execution_count": 2,
      "outputs": []
    },
    {
      "cell_type": "code",
      "metadata": {
        "id": "3z0mdLTPwcZm"
      },
      "source": [
        "# start building the model - import necessary layers\n",
        "from keras.models import Sequential\n",
        "from keras.layers import Dropout, Activation, Conv2D, GlobalAveragePooling2D\n",
        "from keras.optimizers import SGD"
      ],
      "execution_count": 3,
      "outputs": []
    },
    {
      "cell_type": "code",
      "metadata": {
        "id": "7WO5Njmhu18-"
      },
      "source": [
        "use_colab = True\n",
        "assert use_colab in [True, False]"
      ],
      "execution_count": 4,
      "outputs": []
    },
    {
      "cell_type": "code",
      "metadata": {
        "id": "pkTIAV-1u1-6",
        "outputId": "fa294af9-d2c3-494a-f2d0-740a8896483e",
        "colab": {
          "base_uri": "https://localhost:8080/"
        }
      },
      "source": [
        "from google.colab import drive\n",
        "drive.mount('/content/drive')"
      ],
      "execution_count": 5,
      "outputs": [
        {
          "output_type": "stream",
          "text": [
            "Mounted at /content/drive\n"
          ],
          "name": "stdout"
        }
      ]
    },
    {
      "cell_type": "code",
      "metadata": {
        "id": "xphy-rOVu2A2",
        "outputId": "5367e110-720f-4811-8a9e-b3bb850c85b2",
        "colab": {
          "base_uri": "https://localhost:8080/"
        }
      },
      "source": [
        "(X_train, y_train), (X_test, y_test) = cifar10.load_data()"
      ],
      "execution_count": 6,
      "outputs": [
        {
          "output_type": "stream",
          "text": [
            "Downloading data from https://www.cs.toronto.edu/~kriz/cifar-10-python.tar.gz\n",
            "170500096/170498071 [==============================] - 2s 0us/step\n"
          ],
          "name": "stdout"
        }
      ]
    },
    {
      "cell_type": "code",
      "metadata": {
        "id": "h-VOu2J5u2Cn",
        "outputId": "ac2e104e-257a-4c17-acf5-7c595898d4f7",
        "colab": {
          "base_uri": "https://localhost:8080/"
        }
      },
      "source": [
        "print (\"Training data:\")\n",
        "print (\"Number of examples: \", X_train.shape[0])\n",
        "print (\"Number of channels:\",X_train.shape[3]) \n",
        "print (\"Image size:\", X_train.shape[1], X_train.shape[2])\n",
        "print\n",
        "print (\"Test data:\")\n",
        "print (\"Number of examples:\", X_test.shape[0])\n",
        "print (\"Number of channels:\", X_test.shape[3])\n",
        "print (\"Image size:\", X_test.shape[1], X_test.shape[2]) \n",
        "\n",
        "print(X_train.shape, X_train.dtype)"
      ],
      "execution_count": 7,
      "outputs": [
        {
          "output_type": "stream",
          "text": [
            "Training data:\n",
            "Number of examples:  50000\n",
            "Number of channels: 3\n",
            "Image size: 32 32\n",
            "Test data:\n",
            "Number of examples: 10000\n",
            "Number of channels: 3\n",
            "Image size: 32 32\n",
            "(50000, 32, 32, 3) uint8\n"
          ],
          "name": "stdout"
        }
      ]
    },
    {
      "cell_type": "code",
      "metadata": {
        "id": "p-wviXb5u2Ei"
      },
      "source": [
        "# normalize the inputs from 0-255 to 0.0-1.0\n",
        "X_train = X_train.astype('float32')\n",
        "X_test = X_test.astype('float32')\n",
        "X_train = X_train / 255.0\n",
        "X_test = X_test / 255.0"
      ],
      "execution_count": 8,
      "outputs": []
    },
    {
      "cell_type": "code",
      "metadata": {
        "id": "6DitKrJ4u2Ge"
      },
      "source": [
        ""
      ],
      "execution_count": 8,
      "outputs": []
    },
    {
      "cell_type": "code",
      "metadata": {
        "id": "8viSn2rZu2In"
      },
      "source": [
        "# the save point\n",
        "if use_colab:\n",
        "    checkpoint_dir ='/content/drive/My Drive/0003. AICC 자료/001. Study 자료/Project_Code/CIFAR-10/datagen/exp1'\n",
        "else:\n",
        "    checkpoint_dir = 'datagen/exp1'\n",
        "\n",
        "if not os.path.isdir(checkpoint_dir):\n",
        "        os.makedirs(checkpoint_dir)    "
      ],
      "execution_count": 9,
      "outputs": []
    },
    {
      "cell_type": "markdown",
      "metadata": {
        "id": "_G3ZMytN15Ib"
      },
      "source": [
        "https://www.kaggle.com/aarooxx/object-recognition-90-88-accuracy\n",
        "\n",
        "kaggle acc : 90.88% Code reference"
      ]
    },
    {
      "cell_type": "code",
      "metadata": {
        "id": "vxSuLtVBvYDs"
      },
      "source": [
        "model = Sequential()\n",
        "\n",
        "# add model layers - Convolution2D, Activation, Dropout\n",
        "model.add(Conv2D(96, (3, 3), padding = 'same', input_shape=(32, 32, 3)))\n",
        "model.add(Activation('relu'))\n",
        "model.add(Conv2D(96, (3, 3), padding = 'same'))\n",
        "model.add(Activation('relu'))\n",
        "model.add(Conv2D(96, (3, 3), padding = 'same', strides = (2,2)))\n",
        "model.add(Dropout(0.5))\n",
        "\n",
        "model.add(Conv2D(192, (3, 3), padding = 'same'))\n",
        "model.add(Activation('relu'))\n",
        "model.add(Conv2D(192, (3, 3), padding = 'same'))\n",
        "model.add(Activation('relu'))\n",
        "model.add(Conv2D(192, (3, 3), padding = 'same', strides = (2,2)))\n",
        "model.add(Dropout(0.5))\n",
        "\n",
        "model.add(Conv2D(192, (3, 3), padding = 'same'))\n",
        "model.add(Activation('relu'))\n",
        "model.add(Conv2D(192, (1, 1), padding = 'valid'))\n",
        "model.add(Activation('relu'))\n",
        "model.add(Conv2D(10, (1, 1), padding = 'valid'))\n",
        "\n",
        "# add GlobalAveragePooling2D layer with Softmax activation\n",
        "model.add(GlobalAveragePooling2D())\n",
        "model.add(Activation('softmax'))"
      ],
      "execution_count": 10,
      "outputs": []
    },
    {
      "cell_type": "code",
      "metadata": {
        "id": "_-ikUNstvYSk"
      },
      "source": [
        ""
      ],
      "execution_count": 10,
      "outputs": []
    },
    {
      "cell_type": "code",
      "metadata": {
        "id": "qRwqvLZvu2Kh"
      },
      "source": [
        "model.compile(loss='categorical_crossentropy', \n",
        "                  optimizer='adam',\n",
        "                  metrics='categorical_accuracy')"
      ],
      "execution_count": 11,
      "outputs": []
    },
    {
      "cell_type": "code",
      "metadata": {
        "id": "uh4UKvHevQB7"
      },
      "source": [
        "import keras.utils\n",
        "\n",
        "one_hot_y_train = keras.utils.to_categorical(y_train, num_classes=10)"
      ],
      "execution_count": 12,
      "outputs": []
    },
    {
      "cell_type": "code",
      "metadata": {
        "id": "lw_O9xG0vQDz"
      },
      "source": [
        "cp_callback = tf.keras.callbacks.ModelCheckpoint(checkpoint_dir,\n",
        "                                                 save_weights_only=True,\n",
        "                                                 monitor='val_loss',\n",
        "                                                 mode='auto',\n",
        "                                                 save_best_only=True,\n",
        "                                                 verbose=1)"
      ],
      "execution_count": 13,
      "outputs": []
    },
    {
      "cell_type": "code",
      "metadata": {
        "id": "m4UyeuBBvQFx",
        "outputId": "2f644789-ede0-489e-cc23-2bab69a48635",
        "colab": {
          "base_uri": "https://localhost:8080/"
        }
      },
      "source": [
        "# Direct Dataload\n",
        "\n",
        "model.fit(X_train, one_hot_y_train, epochs=40, batch_size=1000, validation_split=0.2\n",
        "          ,callbacks=[cp_callback])"
      ],
      "execution_count": 16,
      "outputs": [
        {
          "output_type": "stream",
          "text": [
            "Epoch 1/40\n",
            " 2/40 [>.............................] - ETA: 6s - loss: 0.5215 - categorical_accuracy: 0.8055WARNING:tensorflow:Callbacks method `on_train_batch_end` is slow compared to the batch time (batch time: 0.0156s vs `on_train_batch_end` time: 0.3455s). Check your callbacks.\n",
            "40/40 [==============================] - ETA: 0s - loss: 0.5294 - categorical_accuracy: 0.8140WARNING:tensorflow:Callbacks method `on_test_batch_end` is slow compared to the batch time (batch time: 0.0072s vs `on_test_batch_end` time: 0.0953s). Check your callbacks.\n",
            "\n",
            "Epoch 00001: val_loss improved from 0.66351 to 0.65352, saving model to /content/drive/My Drive/0003. AICC 자료/001. Study 자료/Project_Code/CIFAR-10/datagen/exp1\n",
            "40/40 [==============================] - 15s 387ms/step - loss: 0.5294 - categorical_accuracy: 0.8140 - val_loss: 0.6535 - val_categorical_accuracy: 0.7758\n",
            "Epoch 2/40\n",
            "40/40 [==============================] - ETA: 0s - loss: 0.5016 - categorical_accuracy: 0.8242\n",
            "Epoch 00002: val_loss did not improve from 0.65352\n",
            "40/40 [==============================] - 16s 398ms/step - loss: 0.5016 - categorical_accuracy: 0.8242 - val_loss: 0.6890 - val_categorical_accuracy: 0.7679\n",
            "Epoch 3/40\n",
            "40/40 [==============================] - ETA: 0s - loss: 0.4972 - categorical_accuracy: 0.8243\n",
            "Epoch 00003: val_loss improved from 0.65352 to 0.63803, saving model to /content/drive/My Drive/0003. AICC 자료/001. Study 자료/Project_Code/CIFAR-10/datagen/exp1\n",
            "40/40 [==============================] - 16s 397ms/step - loss: 0.4972 - categorical_accuracy: 0.8243 - val_loss: 0.6380 - val_categorical_accuracy: 0.7822\n",
            "Epoch 4/40\n",
            "40/40 [==============================] - ETA: 0s - loss: 0.4700 - categorical_accuracy: 0.8350\n",
            "Epoch 00004: val_loss improved from 0.63803 to 0.61827, saving model to /content/drive/My Drive/0003. AICC 자료/001. Study 자료/Project_Code/CIFAR-10/datagen/exp1\n",
            "40/40 [==============================] - 16s 395ms/step - loss: 0.4700 - categorical_accuracy: 0.8350 - val_loss: 0.6183 - val_categorical_accuracy: 0.7910\n",
            "Epoch 5/40\n",
            "40/40 [==============================] - ETA: 0s - loss: 0.4582 - categorical_accuracy: 0.8381\n",
            "Epoch 00005: val_loss did not improve from 0.61827\n",
            "40/40 [==============================] - 16s 393ms/step - loss: 0.4582 - categorical_accuracy: 0.8381 - val_loss: 0.6294 - val_categorical_accuracy: 0.7897\n",
            "Epoch 6/40\n",
            "40/40 [==============================] - ETA: 0s - loss: 0.4407 - categorical_accuracy: 0.8443\n",
            "Epoch 00006: val_loss did not improve from 0.61827\n",
            "40/40 [==============================] - 16s 395ms/step - loss: 0.4407 - categorical_accuracy: 0.8443 - val_loss: 0.6348 - val_categorical_accuracy: 0.7867\n",
            "Epoch 7/40\n",
            "40/40 [==============================] - ETA: 0s - loss: 0.4519 - categorical_accuracy: 0.8391\n",
            "Epoch 00007: val_loss improved from 0.61827 to 0.61392, saving model to /content/drive/My Drive/0003. AICC 자료/001. Study 자료/Project_Code/CIFAR-10/datagen/exp1\n",
            "40/40 [==============================] - 16s 399ms/step - loss: 0.4519 - categorical_accuracy: 0.8391 - val_loss: 0.6139 - val_categorical_accuracy: 0.7959\n",
            "Epoch 8/40\n",
            "40/40 [==============================] - ETA: 0s - loss: 0.4278 - categorical_accuracy: 0.8479\n",
            "Epoch 00008: val_loss did not improve from 0.61392\n",
            "40/40 [==============================] - 16s 395ms/step - loss: 0.4278 - categorical_accuracy: 0.8479 - val_loss: 0.6260 - val_categorical_accuracy: 0.7945\n",
            "Epoch 9/40\n",
            "40/40 [==============================] - ETA: 0s - loss: 0.4131 - categorical_accuracy: 0.8539\n",
            "Epoch 00009: val_loss did not improve from 0.61392\n",
            "40/40 [==============================] - 16s 395ms/step - loss: 0.4131 - categorical_accuracy: 0.8539 - val_loss: 0.6227 - val_categorical_accuracy: 0.7919\n",
            "Epoch 10/40\n",
            "40/40 [==============================] - ETA: 0s - loss: 0.3934 - categorical_accuracy: 0.8607\n",
            "Epoch 00010: val_loss did not improve from 0.61392\n",
            "40/40 [==============================] - 16s 393ms/step - loss: 0.3934 - categorical_accuracy: 0.8607 - val_loss: 0.6144 - val_categorical_accuracy: 0.7979\n",
            "Epoch 11/40\n",
            "40/40 [==============================] - ETA: 0s - loss: 0.3901 - categorical_accuracy: 0.8631\n",
            "Epoch 00011: val_loss improved from 0.61392 to 0.61204, saving model to /content/drive/My Drive/0003. AICC 자료/001. Study 자료/Project_Code/CIFAR-10/datagen/exp1\n",
            "40/40 [==============================] - 16s 396ms/step - loss: 0.3901 - categorical_accuracy: 0.8631 - val_loss: 0.6120 - val_categorical_accuracy: 0.7978\n",
            "Epoch 12/40\n",
            "40/40 [==============================] - ETA: 0s - loss: 0.3803 - categorical_accuracy: 0.8666\n",
            "Epoch 00012: val_loss did not improve from 0.61204\n",
            "40/40 [==============================] - 16s 394ms/step - loss: 0.3803 - categorical_accuracy: 0.8666 - val_loss: 0.6323 - val_categorical_accuracy: 0.7965\n",
            "Epoch 13/40\n",
            "40/40 [==============================] - ETA: 0s - loss: 0.3730 - categorical_accuracy: 0.8665\n",
            "Epoch 00013: val_loss improved from 0.61204 to 0.60004, saving model to /content/drive/My Drive/0003. AICC 자료/001. Study 자료/Project_Code/CIFAR-10/datagen/exp1\n",
            "40/40 [==============================] - 16s 397ms/step - loss: 0.3730 - categorical_accuracy: 0.8665 - val_loss: 0.6000 - val_categorical_accuracy: 0.8049\n",
            "Epoch 14/40\n",
            "40/40 [==============================] - ETA: 0s - loss: 0.3560 - categorical_accuracy: 0.8724\n",
            "Epoch 00014: val_loss did not improve from 0.60004\n",
            "40/40 [==============================] - 16s 395ms/step - loss: 0.3560 - categorical_accuracy: 0.8724 - val_loss: 0.6128 - val_categorical_accuracy: 0.8043\n",
            "Epoch 15/40\n",
            "40/40 [==============================] - ETA: 0s - loss: 0.3353 - categorical_accuracy: 0.8821\n",
            "Epoch 00015: val_loss did not improve from 0.60004\n",
            "40/40 [==============================] - 16s 395ms/step - loss: 0.3353 - categorical_accuracy: 0.8821 - val_loss: 0.6349 - val_categorical_accuracy: 0.8026\n",
            "Epoch 16/40\n",
            "40/40 [==============================] - ETA: 0s - loss: 0.3451 - categorical_accuracy: 0.8759\n",
            "Epoch 00016: val_loss did not improve from 0.60004\n",
            "40/40 [==============================] - 16s 395ms/step - loss: 0.3451 - categorical_accuracy: 0.8759 - val_loss: 0.6084 - val_categorical_accuracy: 0.8036\n",
            "Epoch 17/40\n",
            "40/40 [==============================] - ETA: 0s - loss: 0.3307 - categorical_accuracy: 0.8820\n",
            "Epoch 00017: val_loss did not improve from 0.60004\n",
            "40/40 [==============================] - 16s 395ms/step - loss: 0.3307 - categorical_accuracy: 0.8820 - val_loss: 0.6189 - val_categorical_accuracy: 0.8025\n",
            "Epoch 18/40\n",
            "40/40 [==============================] - ETA: 0s - loss: 0.3256 - categorical_accuracy: 0.8833\n",
            "Epoch 00018: val_loss did not improve from 0.60004\n",
            "40/40 [==============================] - 16s 394ms/step - loss: 0.3256 - categorical_accuracy: 0.8833 - val_loss: 0.6576 - val_categorical_accuracy: 0.7981\n",
            "Epoch 19/40\n",
            "40/40 [==============================] - ETA: 0s - loss: 0.3222 - categorical_accuracy: 0.8843\n",
            "Epoch 00019: val_loss did not improve from 0.60004\n",
            "40/40 [==============================] - 16s 395ms/step - loss: 0.3222 - categorical_accuracy: 0.8843 - val_loss: 0.6190 - val_categorical_accuracy: 0.8008\n",
            "Epoch 20/40\n",
            "40/40 [==============================] - ETA: 0s - loss: 0.3016 - categorical_accuracy: 0.8922\n",
            "Epoch 00020: val_loss did not improve from 0.60004\n",
            "40/40 [==============================] - 16s 394ms/step - loss: 0.3016 - categorical_accuracy: 0.8922 - val_loss: 0.6131 - val_categorical_accuracy: 0.8094\n",
            "Epoch 21/40\n",
            "40/40 [==============================] - ETA: 0s - loss: 0.2962 - categorical_accuracy: 0.8935\n",
            "Epoch 00021: val_loss did not improve from 0.60004\n",
            "40/40 [==============================] - 16s 394ms/step - loss: 0.2962 - categorical_accuracy: 0.8935 - val_loss: 0.6418 - val_categorical_accuracy: 0.8013\n",
            "Epoch 22/40\n",
            "40/40 [==============================] - ETA: 0s - loss: 0.2880 - categorical_accuracy: 0.8975\n",
            "Epoch 00022: val_loss did not improve from 0.60004\n",
            "40/40 [==============================] - 16s 395ms/step - loss: 0.2880 - categorical_accuracy: 0.8975 - val_loss: 0.6510 - val_categorical_accuracy: 0.8055\n",
            "Epoch 23/40\n",
            "40/40 [==============================] - ETA: 0s - loss: 0.2786 - categorical_accuracy: 0.9001\n",
            "Epoch 00023: val_loss did not improve from 0.60004\n",
            "40/40 [==============================] - 16s 396ms/step - loss: 0.2786 - categorical_accuracy: 0.9001 - val_loss: 0.6776 - val_categorical_accuracy: 0.8053\n",
            "Epoch 24/40\n",
            "40/40 [==============================] - ETA: 0s - loss: 0.2954 - categorical_accuracy: 0.8930\n",
            "Epoch 00024: val_loss did not improve from 0.60004\n",
            "40/40 [==============================] - 16s 395ms/step - loss: 0.2954 - categorical_accuracy: 0.8930 - val_loss: 0.6337 - val_categorical_accuracy: 0.8089\n",
            "Epoch 25/40\n",
            "40/40 [==============================] - ETA: 0s - loss: 0.2764 - categorical_accuracy: 0.9008\n",
            "Epoch 00025: val_loss did not improve from 0.60004\n",
            "40/40 [==============================] - 16s 394ms/step - loss: 0.2764 - categorical_accuracy: 0.9008 - val_loss: 0.6372 - val_categorical_accuracy: 0.8061\n",
            "Epoch 26/40\n",
            "40/40 [==============================] - ETA: 0s - loss: 0.2722 - categorical_accuracy: 0.9011\n",
            "Epoch 00026: val_loss did not improve from 0.60004\n",
            "40/40 [==============================] - 16s 395ms/step - loss: 0.2722 - categorical_accuracy: 0.9011 - val_loss: 0.6308 - val_categorical_accuracy: 0.8112\n",
            "Epoch 27/40\n",
            "40/40 [==============================] - ETA: 0s - loss: 0.2552 - categorical_accuracy: 0.9081\n",
            "Epoch 00027: val_loss did not improve from 0.60004\n",
            "40/40 [==============================] - 16s 394ms/step - loss: 0.2552 - categorical_accuracy: 0.9081 - val_loss: 0.6476 - val_categorical_accuracy: 0.8150\n",
            "Epoch 28/40\n",
            "40/40 [==============================] - ETA: 0s - loss: 0.2488 - categorical_accuracy: 0.9121\n",
            "Epoch 00028: val_loss did not improve from 0.60004\n",
            "40/40 [==============================] - 16s 394ms/step - loss: 0.2488 - categorical_accuracy: 0.9121 - val_loss: 0.6461 - val_categorical_accuracy: 0.8124\n",
            "Epoch 29/40\n",
            "40/40 [==============================] - ETA: 0s - loss: 0.2453 - categorical_accuracy: 0.9128\n",
            "Epoch 00029: val_loss did not improve from 0.60004\n",
            "40/40 [==============================] - 16s 395ms/step - loss: 0.2453 - categorical_accuracy: 0.9128 - val_loss: 0.6354 - val_categorical_accuracy: 0.8113\n",
            "Epoch 30/40\n",
            "40/40 [==============================] - ETA: 0s - loss: 0.2322 - categorical_accuracy: 0.9177\n",
            "Epoch 00030: val_loss did not improve from 0.60004\n",
            "40/40 [==============================] - 16s 395ms/step - loss: 0.2322 - categorical_accuracy: 0.9177 - val_loss: 0.6639 - val_categorical_accuracy: 0.8118\n",
            "Epoch 31/40\n",
            "40/40 [==============================] - ETA: 0s - loss: 0.2344 - categorical_accuracy: 0.9147\n",
            "Epoch 00031: val_loss did not improve from 0.60004\n",
            "40/40 [==============================] - 16s 395ms/step - loss: 0.2344 - categorical_accuracy: 0.9147 - val_loss: 0.6489 - val_categorical_accuracy: 0.8151\n",
            "Epoch 32/40\n",
            "40/40 [==============================] - ETA: 0s - loss: 0.2061 - categorical_accuracy: 0.9263\n",
            "Epoch 00032: val_loss did not improve from 0.60004\n",
            "40/40 [==============================] - 16s 395ms/step - loss: 0.2061 - categorical_accuracy: 0.9263 - val_loss: 0.6763 - val_categorical_accuracy: 0.8103\n",
            "Epoch 33/40\n",
            "40/40 [==============================] - ETA: 0s - loss: 0.2126 - categorical_accuracy: 0.9251\n",
            "Epoch 00033: val_loss did not improve from 0.60004\n",
            "40/40 [==============================] - 16s 395ms/step - loss: 0.2126 - categorical_accuracy: 0.9251 - val_loss: 0.6664 - val_categorical_accuracy: 0.8168\n",
            "Epoch 34/40\n",
            "40/40 [==============================] - ETA: 0s - loss: 0.1987 - categorical_accuracy: 0.9293\n",
            "Epoch 00034: val_loss did not improve from 0.60004\n",
            "40/40 [==============================] - 16s 395ms/step - loss: 0.1987 - categorical_accuracy: 0.9293 - val_loss: 0.6720 - val_categorical_accuracy: 0.8142\n",
            "Epoch 35/40\n",
            "40/40 [==============================] - ETA: 0s - loss: 0.2105 - categorical_accuracy: 0.9227\n",
            "Epoch 00035: val_loss did not improve from 0.60004\n",
            "40/40 [==============================] - 16s 395ms/step - loss: 0.2105 - categorical_accuracy: 0.9227 - val_loss: 0.7180 - val_categorical_accuracy: 0.8034\n",
            "Epoch 36/40\n",
            "40/40 [==============================] - ETA: 0s - loss: 0.2081 - categorical_accuracy: 0.9249\n",
            "Epoch 00036: val_loss did not improve from 0.60004\n",
            "40/40 [==============================] - 15s 385ms/step - loss: 0.2081 - categorical_accuracy: 0.9249 - val_loss: 0.6706 - val_categorical_accuracy: 0.8172\n",
            "Epoch 37/40\n",
            "40/40 [==============================] - ETA: 0s - loss: 0.1943 - categorical_accuracy: 0.9305\n",
            "Epoch 00037: val_loss did not improve from 0.60004\n",
            "40/40 [==============================] - 16s 395ms/step - loss: 0.1943 - categorical_accuracy: 0.9305 - val_loss: 0.6897 - val_categorical_accuracy: 0.8192\n",
            "Epoch 38/40\n",
            "40/40 [==============================] - ETA: 0s - loss: 0.1869 - categorical_accuracy: 0.9312\n",
            "Epoch 00038: val_loss did not improve from 0.60004\n",
            "40/40 [==============================] - 16s 395ms/step - loss: 0.1869 - categorical_accuracy: 0.9312 - val_loss: 0.7441 - val_categorical_accuracy: 0.8093\n",
            "Epoch 39/40\n",
            "40/40 [==============================] - ETA: 0s - loss: 0.1740 - categorical_accuracy: 0.9378\n",
            "Epoch 00039: val_loss did not improve from 0.60004\n",
            "40/40 [==============================] - 16s 395ms/step - loss: 0.1740 - categorical_accuracy: 0.9378 - val_loss: 0.7260 - val_categorical_accuracy: 0.8139\n",
            "Epoch 40/40\n",
            "40/40 [==============================] - ETA: 0s - loss: 0.1695 - categorical_accuracy: 0.9382\n",
            "Epoch 00040: val_loss did not improve from 0.60004\n",
            "40/40 [==============================] - 16s 395ms/step - loss: 0.1695 - categorical_accuracy: 0.9382 - val_loss: 0.7424 - val_categorical_accuracy: 0.8097\n"
          ],
          "name": "stdout"
        },
        {
          "output_type": "execute_result",
          "data": {
            "text/plain": [
              "<tensorflow.python.keras.callbacks.History at 0x7f84b8770860>"
            ]
          },
          "metadata": {
            "tags": []
          },
          "execution_count": 16
        }
      ]
    },
    {
      "cell_type": "code",
      "metadata": {
        "id": "4QveQacK2jiN",
        "outputId": "da536861-a9e7-4051-dbb7-6b75f888036d",
        "colab": {
          "base_uri": "https://localhost:8080/"
        }
      },
      "source": [
        "# 최적 weight load\n",
        "\n",
        "model.load_weights(checkpoint_dir)"
      ],
      "execution_count": 17,
      "outputs": [
        {
          "output_type": "execute_result",
          "data": {
            "text/plain": [
              "<tensorflow.python.training.tracking.util.CheckpointLoadStatus at 0x7f84b86c7780>"
            ]
          },
          "metadata": {
            "tags": []
          },
          "execution_count": 17
        }
      ]
    },
    {
      "cell_type": "code",
      "metadata": {
        "id": "m8ebkAfTz5_N",
        "outputId": "c5d0e071-aee1-472b-c782-02274f175e02",
        "colab": {
          "base_uri": "https://localhost:8080/"
        }
      },
      "source": [
        "one_hot_y_test = keras.utils.to_categorical(y_test, num_classes=10)\n",
        "\n",
        "model.evaluate(X_test, one_hot_y_test, batch_size=1000)"
      ],
      "execution_count": 19,
      "outputs": [
        {
          "output_type": "stream",
          "text": [
            " 2/10 [=====>........................] - ETA: 1s - loss: 0.5928 - categorical_accuracy: 0.8045WARNING:tensorflow:Callbacks method `on_test_batch_end` is slow compared to the batch time (batch time: 0.0097s vs `on_test_batch_end` time: 0.1060s). Check your callbacks.\n",
            "10/10 [==============================] - 1s 108ms/step - loss: 0.6158 - categorical_accuracy: 0.7950\n"
          ],
          "name": "stdout"
        },
        {
          "output_type": "execute_result",
          "data": {
            "text/plain": [
              "[0.6157543659210205, 0.7950000166893005]"
            ]
          },
          "metadata": {
            "tags": []
          },
          "execution_count": 19
        }
      ]
    },
    {
      "cell_type": "code",
      "metadata": {
        "id": "AdeesxuE2jky"
      },
      "source": [
        ""
      ],
      "execution_count": null,
      "outputs": []
    },
    {
      "cell_type": "markdown",
      "metadata": {
        "id": "UO8365n52x8U"
      },
      "source": [
        "Model Ver.2 : Datagen"
      ]
    },
    {
      "cell_type": "code",
      "metadata": {
        "id": "WhL3OxwxvQHf"
      },
      "source": [
        "# Datagen 모델 \n",
        "\n",
        "(X_train, y_train), (X_test, y_test) = cifar10.load_data()\n"
      ],
      "execution_count": 15,
      "outputs": []
    },
    {
      "cell_type": "code",
      "metadata": {
        "id": "6bc2dH_cyRL9"
      },
      "source": [
        "\n",
        "from sklearn.model_selection import train_test_split\n",
        "\n",
        "# datagenerator 사용을 위해 validation set split\n",
        "X_train, X_valid, Y_train, y_valid = train_test_split(X_train, y_train, test_size=0.2, shuffle=False)"
      ],
      "execution_count": null,
      "outputs": []
    },
    {
      "cell_type": "code",
      "metadata": {
        "id": "TyWXl8zGvQJd"
      },
      "source": [
        "from tensorflow.keras.preprocessing.image import ImageDataGenerator\n",
        "\n",
        "\n",
        "train_datagen = ImageDataGenerator(\n",
        "    featurewise_center=True,\n",
        "    featurewise_std_normalization=True,\n",
        "    rotation_range=20,\n",
        "    width_shift_range=0.2,\n",
        "    height_shift_range=0.2,\n",
        "    horizontal_flip=True)\n",
        "\n",
        "\n",
        "valid_datagen = ImageDataGenerator(\n",
        "    featurewise_center=True,\n",
        "    featurewise_std_normalization=True,\n",
        "    rotation_range=20,\n",
        "    width_shift_range=0.2,\n",
        "    height_shift_range=0.2,\n",
        "    horizontal_flip=True)\n",
        "\n"
      ],
      "execution_count": 15,
      "outputs": []
    },
    {
      "cell_type": "code",
      "metadata": {
        "id": "P-cUVv6rvQLi"
      },
      "source": [
        "train_datagen.fit(X_train)\n",
        "\n",
        "valid_datagen.fit(X_valid)"
      ],
      "execution_count": 15,
      "outputs": []
    },
    {
      "cell_type": "code",
      "metadata": {
        "id": "wmiINW5myrkx"
      },
      "source": [
        ""
      ],
      "execution_count": null,
      "outputs": []
    },
    {
      "cell_type": "code",
      "metadata": {
        "id": "zmRw5PTryrpd"
      },
      "source": [
        "# model compile\n",
        "model.compile(loss='categorical_crossentropy', \n",
        "                  optimizer='adam',\n",
        "                  metrics='categorical_accuracy')"
      ],
      "execution_count": null,
      "outputs": []
    },
    {
      "cell_type": "code",
      "metadata": {
        "id": "X8bGTHoMyrvv"
      },
      "source": [
        "import keras.utils\n",
        "\n",
        "one_hot_y_train = keras.utils.to_categorical(y_train, num_classes=10)"
      ],
      "execution_count": null,
      "outputs": []
    },
    {
      "cell_type": "code",
      "metadata": {
        "id": "QGMHF_jdzAYx"
      },
      "source": [
        "\n",
        "# model fit - using datagen flow\n",
        "\n",
        "model.fit(train_datagen.flow(X_train, y_train, batch_size=1000) ,\n",
        "          step_per_epoch = 40,  # 40000 / 1000\n",
        "          epochs=40, \n",
        "          validation_data = valid_datagen.flow(X_valid,y_valid, batch_size=1000) ,\n",
        "          validation_step = 1,\n",
        "          callbacks=[cp_callback])\n"
      ],
      "execution_count": null,
      "outputs": []
    },
    {
      "cell_type": "code",
      "metadata": {
        "id": "7JgdMwi1zAbF"
      },
      "source": [
        ""
      ],
      "execution_count": null,
      "outputs": []
    },
    {
      "cell_type": "code",
      "metadata": {
        "id": "3Z6bQl90zAdW"
      },
      "source": [
        ""
      ],
      "execution_count": null,
      "outputs": []
    }
  ]
}