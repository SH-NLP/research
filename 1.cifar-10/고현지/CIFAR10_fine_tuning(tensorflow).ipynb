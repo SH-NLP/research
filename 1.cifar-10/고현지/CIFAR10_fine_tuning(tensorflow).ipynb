{
  "nbformat": 4,
  "nbformat_minor": 0,
  "metadata": {
    "colab": {
      "name": "CIFAR10-fine_tuning(tensorflow).ipynb",
      "provenance": [],
      "collapsed_sections": []
    },
    "kernelspec": {
      "name": "python3",
      "display_name": "Python 3"
    },
    "accelerator": "GPU"
  },
  "cells": [
    {
      "cell_type": "code",
      "metadata": {
        "id": "0i6C9erJktqF"
      },
      "source": [
        "import numpy as np\n",
        "import os\n",
        "import tensorflow as tf\n",
        "from keras.datasets import cifar10\n",
        "from keras.models import Sequential\n",
        "from keras.layers import Dense , Flatten\n",
        "from keras.layers.normalization import BatchNormalization\n",
        "import keras.utils\n",
        "from keras import layers , activations\n",
        "from keras.optimizers import SGD"
      ],
      "execution_count": null,
      "outputs": []
    },
    {
      "cell_type": "code",
      "metadata": {
        "id": "5KZDGNPcktwj",
        "outputId": "8e010bae-4aba-4e1b-d733-74b28ea003e5",
        "colab": {
          "base_uri": "https://localhost:8080/",
          "height": 51
        }
      },
      "source": [
        "(x_train, y_train), (x_test, y_test) = cifar10.load_data()"
      ],
      "execution_count": null,
      "outputs": [
        {
          "output_type": "stream",
          "text": [
            "Downloading data from https://www.cs.toronto.edu/~kriz/cifar-10-python.tar.gz\n",
            "170500096/170498071 [==============================] - 2s 0us/step\n"
          ],
          "name": "stdout"
        }
      ]
    },
    {
      "cell_type": "code",
      "metadata": {
        "id": "mO_8ggYWz50-"
      },
      "source": [
        "# model.fit 단계에서 validation_split 옵션 사용예정 \n",
        "\n",
        "# 미사용 로직\n",
        "(x_train, x_valid) = x_train[5000:], x_train[:5000]\n",
        "(y_train, y_valid) = y_train[5000:], y_train[:5000 ]"
      ],
      "execution_count": null,
      "outputs": []
    },
    {
      "cell_type": "code",
      "metadata": {
        "id": "8igQIjUlp7xo"
      },
      "source": [
        "import keras.utils\n",
        "\n",
        "y_train = keras.utils.to_categorical(y_train, num_classes=10)\n",
        "y_valid = keras.utils.to_categorical(y_valid, num_classes=10)\n",
        "y_test = keras.utils.to_categorical(y_test, num_classes=10)"
      ],
      "execution_count": null,
      "outputs": []
    },
    {
      "cell_type": "code",
      "metadata": {
        "id": "AQrt_IdGiMMQ",
        "outputId": "567023bc-6a7c-4bc2-a15e-e75235fbea15",
        "colab": {
          "base_uri": "https://localhost:8080/",
          "height": 833
        }
      },
      "source": [
        "# conv_base=tf.keras.applications.resnet50.ResNet50(\n",
        "#                   weights='imagenet',  ## 모델을 포기화할 checkpoint 지정 (여기는 imagenet 학습 모델)\n",
        "#                   include_top=False   ## 네트워크 최상위 FC(분류기)를 포함할지 안할지 지정 (imagenet은 1000개 클래스인데, 우리는 10개 클래스만 사용할 예정이므로)\n",
        "#                   )\n",
        "conv_base = tf.keras.applications.vgg16.VGG16(weights='imagenet',  ## 모델을 포기화할 checkpoint 지정 (여기는 imagenet 학습 모델)\n",
        "                  include_top=False )\n",
        "\n",
        "conv_base.summary()\n",
        "\n",
        "# for layer in conv_base.layers: layer.trainable=False"
      ],
      "execution_count": null,
      "outputs": [
        {
          "output_type": "stream",
          "text": [
            "Downloading data from https://storage.googleapis.com/tensorflow/keras-applications/vgg16/vgg16_weights_tf_dim_ordering_tf_kernels_notop.h5\n",
            "58892288/58889256 [==============================] - 0s 0us/step\n",
            "Model: \"vgg16\"\n",
            "_________________________________________________________________\n",
            "Layer (type)                 Output Shape              Param #   \n",
            "=================================================================\n",
            "input_1 (InputLayer)         [(None, None, None, 3)]   0         \n",
            "_________________________________________________________________\n",
            "block1_conv1 (Conv2D)        (None, None, None, 64)    1792      \n",
            "_________________________________________________________________\n",
            "block1_conv2 (Conv2D)        (None, None, None, 64)    36928     \n",
            "_________________________________________________________________\n",
            "block1_pool (MaxPooling2D)   (None, None, None, 64)    0         \n",
            "_________________________________________________________________\n",
            "block2_conv1 (Conv2D)        (None, None, None, 128)   73856     \n",
            "_________________________________________________________________\n",
            "block2_conv2 (Conv2D)        (None, None, None, 128)   147584    \n",
            "_________________________________________________________________\n",
            "block2_pool (MaxPooling2D)   (None, None, None, 128)   0         \n",
            "_________________________________________________________________\n",
            "block3_conv1 (Conv2D)        (None, None, None, 256)   295168    \n",
            "_________________________________________________________________\n",
            "block3_conv2 (Conv2D)        (None, None, None, 256)   590080    \n",
            "_________________________________________________________________\n",
            "block3_conv3 (Conv2D)        (None, None, None, 256)   590080    \n",
            "_________________________________________________________________\n",
            "block3_pool (MaxPooling2D)   (None, None, None, 256)   0         \n",
            "_________________________________________________________________\n",
            "block4_conv1 (Conv2D)        (None, None, None, 512)   1180160   \n",
            "_________________________________________________________________\n",
            "block4_conv2 (Conv2D)        (None, None, None, 512)   2359808   \n",
            "_________________________________________________________________\n",
            "block4_conv3 (Conv2D)        (None, None, None, 512)   2359808   \n",
            "_________________________________________________________________\n",
            "block4_pool (MaxPooling2D)   (None, None, None, 512)   0         \n",
            "_________________________________________________________________\n",
            "block5_conv1 (Conv2D)        (None, None, None, 512)   2359808   \n",
            "_________________________________________________________________\n",
            "block5_conv2 (Conv2D)        (None, None, None, 512)   2359808   \n",
            "_________________________________________________________________\n",
            "block5_conv3 (Conv2D)        (None, None, None, 512)   2359808   \n",
            "_________________________________________________________________\n",
            "block5_pool (MaxPooling2D)   (None, None, None, 512)   0         \n",
            "=================================================================\n",
            "Total params: 14,714,688\n",
            "Trainable params: 14,714,688\n",
            "Non-trainable params: 0\n",
            "_________________________________________________________________\n"
          ],
          "name": "stdout"
        }
      ]
    },
    {
      "cell_type": "code",
      "metadata": {
        "id": "pQY1Xpa9mp7i",
        "outputId": "21b15e2b-703c-4f1f-ad92-4930d1af2f5d",
        "colab": {
          "base_uri": "https://localhost:8080/"
        }
      },
      "source": [
        "conv_base.trainable = True\n",
        "\n",
        "print(conv_base.layers)\n",
        "set_trainable = False\n",
        "for layer in conv_base.layers:\n",
        "    if layer.name == 'block5_conv1':  ## block5_conv1이후의 모든 레이어들은 학습이 된다.\n",
        "        set_trainable = True\n",
        "    if set_trainable:\n",
        "        layer.trainable = True\n",
        "    else:\n",
        "        layer.trainable = False"
      ],
      "execution_count": null,
      "outputs": [
        {
          "output_type": "stream",
          "text": [
            "[<tensorflow.python.keras.engine.input_layer.InputLayer object at 0x7fd8404609e8>, <tensorflow.python.keras.layers.convolutional.Conv2D object at 0x7fd87391bdd8>, <tensorflow.python.keras.layers.convolutional.Conv2D object at 0x7fd87391d0b8>, <tensorflow.python.keras.layers.pooling.MaxPooling2D object at 0x7fd87391d5f8>, <tensorflow.python.keras.layers.convolutional.Conv2D object at 0x7fd87391e470>, <tensorflow.python.keras.layers.convolutional.Conv2D object at 0x7fd83f1c5710>, <tensorflow.python.keras.layers.pooling.MaxPooling2D object at 0x7fd83f1c5b00>, <tensorflow.python.keras.layers.convolutional.Conv2D object at 0x7fd8301496a0>, <tensorflow.python.keras.layers.convolutional.Conv2D object at 0x7fd830151518>, <tensorflow.python.keras.layers.convolutional.Conv2D object at 0x7fd830151940>, <tensorflow.python.keras.layers.pooling.MaxPooling2D object at 0x7fd83015a518>, <tensorflow.python.keras.layers.convolutional.Conv2D object at 0x7fd83015acf8>, <tensorflow.python.keras.layers.convolutional.Conv2D object at 0x7fd830163b70>, <tensorflow.python.keras.layers.convolutional.Conv2D object at 0x7fd830163c18>, <tensorflow.python.keras.layers.pooling.MaxPooling2D object at 0x7fd83016d860>, <tensorflow.python.keras.layers.convolutional.Conv2D object at 0x7fd830175390>, <tensorflow.python.keras.layers.convolutional.Conv2D object at 0x7fd830175f28>, <tensorflow.python.keras.layers.convolutional.Conv2D object at 0x7fd83017d630>, <tensorflow.python.keras.layers.pooling.MaxPooling2D object at 0x7fd830184780>]\n"
          ],
          "name": "stdout"
        }
      ]
    },
    {
      "cell_type": "code",
      "metadata": {
        "id": "Z4GqXlnWi3J8",
        "outputId": "72d06a82-abc6-422a-b1c8-276eaae430fd",
        "colab": {
          "base_uri": "https://localhost:8080/",
          "height": 323
        }
      },
      "source": [
        "Input_Layer = tf.keras.layers.Input(shape=(32,32,3))\n",
        "x=conv_base(Input_Layer)\n",
        "x=tf.keras.layers.Flatten()(x)\n",
        "x= tf.keras.layers.Dense(512, activation='relu')(x)\n",
        "Out_Layer= tf.keras.layers.Dense(10, activation='softmax')(x)\n",
        "\n",
        "model = tf.keras.Model(inputs=[Input_Layer], outputs=[Out_Layer])\n",
        "\n",
        "model.summary()"
      ],
      "execution_count": null,
      "outputs": [
        {
          "output_type": "stream",
          "text": [
            "Model: \"functional_1\"\n",
            "_________________________________________________________________\n",
            "Layer (type)                 Output Shape              Param #   \n",
            "=================================================================\n",
            "input_2 (InputLayer)         [(None, 32, 32, 3)]       0         \n",
            "_________________________________________________________________\n",
            "vgg16 (Functional)           (None, None, None, 512)   14714688  \n",
            "_________________________________________________________________\n",
            "flatten (Flatten)            (None, 512)               0         \n",
            "_________________________________________________________________\n",
            "dense (Dense)                (None, 512)               262656    \n",
            "_________________________________________________________________\n",
            "dense_1 (Dense)              (None, 10)                5130      \n",
            "=================================================================\n",
            "Total params: 14,982,474\n",
            "Trainable params: 7,347,210\n",
            "Non-trainable params: 7,635,264\n",
            "_________________________________________________________________\n"
          ],
          "name": "stdout"
        }
      ]
    },
    {
      "cell_type": "code",
      "metadata": {
        "id": "4-qTCrTPoVcp"
      },
      "source": [
        "from keras.preprocessing.image import ImageDataGenerator\n",
        "\n",
        "datagen = ImageDataGenerator(\n",
        "    rotation_range=15,\n",
        "    width_shift_range=0.1,\n",
        "    height_shift_range=0.1,\n",
        "    horizontal_flip=True,\n",
        "    )\n",
        "datagen.fit(x_train)"
      ],
      "execution_count": null,
      "outputs": []
    },
    {
      "cell_type": "code",
      "metadata": {
        "id": "cKIQqSdIjbCG",
        "outputId": "3b4e60d5-eb1f-466c-bebc-e9d16dc711b5",
        "colab": {
          "base_uri": "https://localhost:8080/",
          "height": 1000
        }
      },
      "source": [
        "optimizer=tf.keras.optimizers.Adam(lr=0.0001)\n",
        "\n",
        "model.compile(optimizer= optimizer, loss ='categorical_crossentropy', metrics=['accuracy'])\n",
        "\n",
        "batch_size = 100\n",
        "history = model.fit(datagen.flow(x_train, y_train, batch_size=batch_size), \n",
        "                    steps_per_epoch=x_train.shape[0] // batch_size, \n",
        "                    epochs=40, \n",
        "                    validation_data=(x_valid,y_valid))"
      ],
      "execution_count": null,
      "outputs": [
        {
          "output_type": "stream",
          "text": [
            "Epoch 1/40\n",
            "450/450 [==============================] - 23s 52ms/step - loss: 1.7625 - accuracy: 0.3793 - val_loss: 1.1665 - val_accuracy: 0.5826\n",
            "Epoch 2/40\n",
            "450/450 [==============================] - 23s 51ms/step - loss: 1.0786 - accuracy: 0.6184 - val_loss: 0.9260 - val_accuracy: 0.6882\n",
            "Epoch 3/40\n",
            "450/450 [==============================] - 24s 53ms/step - loss: 0.9098 - accuracy: 0.6878 - val_loss: 0.8449 - val_accuracy: 0.7204\n",
            "Epoch 4/40\n",
            "450/450 [==============================] - 23s 51ms/step - loss: 0.8052 - accuracy: 0.7209 - val_loss: 0.7647 - val_accuracy: 0.7482\n",
            "Epoch 5/40\n",
            "450/450 [==============================] - 23s 51ms/step - loss: 0.7499 - accuracy: 0.7423 - val_loss: 0.7097 - val_accuracy: 0.7694\n",
            "Epoch 6/40\n",
            "450/450 [==============================] - 23s 52ms/step - loss: 0.6940 - accuracy: 0.7613 - val_loss: 0.7265 - val_accuracy: 0.7650\n",
            "Epoch 7/40\n",
            "450/450 [==============================] - 23s 50ms/step - loss: 0.6551 - accuracy: 0.7731 - val_loss: 0.7045 - val_accuracy: 0.7726\n",
            "Epoch 8/40\n",
            "450/450 [==============================] - 23s 50ms/step - loss: 0.6128 - accuracy: 0.7888 - val_loss: 0.7031 - val_accuracy: 0.7740\n",
            "Epoch 9/40\n",
            "450/450 [==============================] - 23s 51ms/step - loss: 0.5816 - accuracy: 0.7973 - val_loss: 0.7038 - val_accuracy: 0.7730\n",
            "Epoch 10/40\n",
            "450/450 [==============================] - 23s 50ms/step - loss: 0.5436 - accuracy: 0.8090 - val_loss: 0.7022 - val_accuracy: 0.7802\n",
            "Epoch 11/40\n",
            "450/450 [==============================] - 23s 51ms/step - loss: 0.5143 - accuracy: 0.8205 - val_loss: 0.7070 - val_accuracy: 0.7758\n",
            "Epoch 12/40\n",
            "450/450 [==============================] - 23s 51ms/step - loss: 0.4843 - accuracy: 0.8313 - val_loss: 0.7127 - val_accuracy: 0.7838\n",
            "Epoch 13/40\n",
            "450/450 [==============================] - 23s 51ms/step - loss: 0.4513 - accuracy: 0.8421 - val_loss: 0.6972 - val_accuracy: 0.7916\n",
            "Epoch 14/40\n",
            "450/450 [==============================] - 23s 51ms/step - loss: 0.4186 - accuracy: 0.8526 - val_loss: 0.7690 - val_accuracy: 0.7774\n",
            "Epoch 15/40\n",
            "450/450 [==============================] - 23s 51ms/step - loss: 0.3989 - accuracy: 0.8596 - val_loss: 0.7401 - val_accuracy: 0.7830\n",
            "Epoch 16/40\n",
            "450/450 [==============================] - 23s 52ms/step - loss: 0.3680 - accuracy: 0.8700 - val_loss: 0.7442 - val_accuracy: 0.7910\n",
            "Epoch 17/40\n",
            "450/450 [==============================] - 23s 51ms/step - loss: 0.3565 - accuracy: 0.8741 - val_loss: 0.7575 - val_accuracy: 0.7906\n",
            "Epoch 18/40\n",
            "450/450 [==============================] - 23s 51ms/step - loss: 0.3314 - accuracy: 0.8837 - val_loss: 0.7824 - val_accuracy: 0.7892\n",
            "Epoch 19/40\n",
            "450/450 [==============================] - 23s 51ms/step - loss: 0.3120 - accuracy: 0.8896 - val_loss: 0.8010 - val_accuracy: 0.7844\n",
            "Epoch 20/40\n",
            "450/450 [==============================] - 23s 51ms/step - loss: 0.2990 - accuracy: 0.8958 - val_loss: 0.8271 - val_accuracy: 0.7812\n",
            "Epoch 21/40\n",
            "450/450 [==============================] - 23s 51ms/step - loss: 0.2867 - accuracy: 0.9017 - val_loss: 0.8526 - val_accuracy: 0.7768\n",
            "Epoch 22/40\n",
            "450/450 [==============================] - 23s 51ms/step - loss: 0.2670 - accuracy: 0.9073 - val_loss: 0.8126 - val_accuracy: 0.7878\n",
            "Epoch 23/40\n",
            "450/450 [==============================] - 23s 52ms/step - loss: 0.2540 - accuracy: 0.9109 - val_loss: 0.8640 - val_accuracy: 0.7836\n",
            "Epoch 24/40\n",
            "450/450 [==============================] - 23s 51ms/step - loss: 0.2464 - accuracy: 0.9149 - val_loss: 0.8748 - val_accuracy: 0.7792\n",
            "Epoch 25/40\n",
            "450/450 [==============================] - 23s 52ms/step - loss: 0.2379 - accuracy: 0.9173 - val_loss: 0.8671 - val_accuracy: 0.7838\n",
            "Epoch 26/40\n",
            "450/450 [==============================] - 24s 52ms/step - loss: 0.2249 - accuracy: 0.9217 - val_loss: 0.9486 - val_accuracy: 0.7802\n",
            "Epoch 27/40\n",
            "450/450 [==============================] - 24s 52ms/step - loss: 0.2178 - accuracy: 0.9248 - val_loss: 0.8821 - val_accuracy: 0.7890\n",
            "Epoch 28/40\n",
            "450/450 [==============================] - 23s 52ms/step - loss: 0.2063 - accuracy: 0.9273 - val_loss: 0.9350 - val_accuracy: 0.7872\n",
            "Epoch 29/40\n",
            "450/450 [==============================] - 24s 53ms/step - loss: 0.2015 - accuracy: 0.9295 - val_loss: 0.9571 - val_accuracy: 0.7824\n",
            "Epoch 30/40\n",
            "450/450 [==============================] - 24s 54ms/step - loss: 0.1988 - accuracy: 0.9304 - val_loss: 0.9717 - val_accuracy: 0.7840\n",
            "Epoch 31/40\n",
            "450/450 [==============================] - 24s 52ms/step - loss: 0.1888 - accuracy: 0.9350 - val_loss: 1.0001 - val_accuracy: 0.7784\n",
            "Epoch 32/40\n",
            "450/450 [==============================] - 24s 53ms/step - loss: 0.1801 - accuracy: 0.9380 - val_loss: 0.9998 - val_accuracy: 0.7834\n",
            "Epoch 33/40\n",
            "450/450 [==============================] - 24s 53ms/step - loss: 0.1740 - accuracy: 0.9400 - val_loss: 1.0065 - val_accuracy: 0.7898\n",
            "Epoch 34/40\n",
            "450/450 [==============================] - 24s 53ms/step - loss: 0.1701 - accuracy: 0.9416 - val_loss: 0.9954 - val_accuracy: 0.7892\n",
            "Epoch 35/40\n",
            "450/450 [==============================] - 24s 52ms/step - loss: 0.1710 - accuracy: 0.9424 - val_loss: 1.0738 - val_accuracy: 0.7788\n",
            "Epoch 36/40\n",
            "450/450 [==============================] - 23s 52ms/step - loss: 0.1530 - accuracy: 0.9468 - val_loss: 1.0777 - val_accuracy: 0.7850\n",
            "Epoch 37/40\n",
            "450/450 [==============================] - 24s 53ms/step - loss: 0.1570 - accuracy: 0.9471 - val_loss: 1.0046 - val_accuracy: 0.7898\n",
            "Epoch 38/40\n",
            "450/450 [==============================] - 24s 53ms/step - loss: 0.1532 - accuracy: 0.9477 - val_loss: 1.0159 - val_accuracy: 0.7818\n",
            "Epoch 39/40\n",
            "450/450 [==============================] - 24s 53ms/step - loss: 0.1452 - accuracy: 0.9503 - val_loss: 1.0269 - val_accuracy: 0.7820\n",
            "Epoch 40/40\n",
            "450/450 [==============================] - 24s 54ms/step - loss: 0.1502 - accuracy: 0.9488 - val_loss: 1.0446 - val_accuracy: 0.7868\n"
          ],
          "name": "stdout"
        }
      ]
    },
    {
      "cell_type": "code",
      "metadata": {
        "id": "WuZwpOfL5j2l",
        "outputId": "243a4398-804c-4ddb-eac5-140369bd1f4c",
        "colab": {
          "base_uri": "https://localhost:8080/",
          "height": 34
        }
      },
      "source": [
        "score = model.evaluate(x_test, y_test, batch_size=256)"
      ],
      "execution_count": null,
      "outputs": [
        {
          "output_type": "stream",
          "text": [
            "40/40 [==============================] - 1s 27ms/step - loss: 1.0965 - accuracy: 0.7731\n"
          ],
          "name": "stdout"
        }
      ]
    }
  ]
}